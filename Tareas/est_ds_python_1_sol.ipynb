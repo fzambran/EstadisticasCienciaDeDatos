{
  "cells": [
    {
      "cell_type": "markdown",
      "metadata": {
        "id": "view-in-github",
        "colab_type": "text"
      },
      "source": [
        "<a href=\"https://colab.research.google.com/github/fzambran/EstadisticasCienciaDeDatos/blob/main/Tareas/est_ds_python_1_sol.ipynb\" target=\"_parent\"><img src=\"https://colab.research.google.com/assets/colab-badge.svg\" alt=\"Open In Colab\"/></a>"
      ]
    },
    {
      "cell_type": "markdown",
      "metadata": {
        "id": "EqD9iAJxa4Lb"
      },
      "source": [
        "# Análisis de Datos con Pandas\n",
        "\n",
        "**Estadísticas para la Ciencia de Datos con Python**</br>\n",
        "**Escuela de Informática y Telecomunicaciones**</br>\n",
        "**Duoc UC**\n",
        "\n",
        "---\n"
      ]
    },
    {
      "cell_type": "markdown",
      "metadata": {
        "id": "EWcORvwza4Lr"
      },
      "source": [
        "<a id=\"ejercicios-de-practica\"></a>\n",
        "### Ejercicios de práctica"
      ]
    },
    {
      "cell_type": "markdown",
      "metadata": {
        "id": "-5z2YENPa4Lr"
      },
      "source": [
        "La base de datos `gapminder` contiene información sobre distintos índices a lo largo del tiempo en la mayoría de los países del mundo, con el fin de promover el desarrollo global y desmentir mitos comunes sobre salud.\n",
        "Algunas variables de la base de datos son:\n",
        "* `country`: País.\n",
        "* `year`: Año.\n",
        "* `infanty_mortality`: Índice de mortalidad infantil.\n",
        "* `life_expectancy`: Esperanza de vida en años.\n",
        "* `fertility`: Índice de fertilidad.\n",
        "* `population`: Población total del país.\n",
        "* `gdp`: PIB anual del país medido en dólares.\n",
        "* `continent`: Continente.\n",
        "* `region`: Región.\n",
        "\n",
        "A continuación, llevará a cabo un análisis en el que investigará sobre las diferencias en la esperanza de vida y PIB de acuerdo a la ubicación geográfica de los países.  \n"
      ]
    },
    {
      "cell_type": "markdown",
      "metadata": {
        "id": "M3d1zeCCa4Lr"
      },
      "source": [
        "1. Cargue la base de datos `gapminder.xlsx` usando la funcion apropiada para cargar archivos de *Excel* y muestre las primeras observaciones. Recuerde importar `pandas` con el alias `pd`."
      ]
    },
    {
      "cell_type": "code",
      "execution_count": null,
      "metadata": {
        "id": "4dNz7Fyza4Lr",
        "outputId": "4eaabe79-9877-4438-c59f-cede39bed56a"
      },
      "outputs": [
        {
          "data": {
            "text/html": [
              "<div>\n",
              "<style scoped>\n",
              "    .dataframe tbody tr th:only-of-type {\n",
              "        vertical-align: middle;\n",
              "    }\n",
              "\n",
              "    .dataframe tbody tr th {\n",
              "        vertical-align: top;\n",
              "    }\n",
              "\n",
              "    .dataframe thead th {\n",
              "        text-align: right;\n",
              "    }\n",
              "</style>\n",
              "<table border=\"1\" class=\"dataframe\">\n",
              "  <thead>\n",
              "    <tr style=\"text-align: right;\">\n",
              "      <th></th>\n",
              "      <th>country</th>\n",
              "      <th>year</th>\n",
              "      <th>infant_mortality</th>\n",
              "      <th>life_expectancy</th>\n",
              "      <th>fertility</th>\n",
              "      <th>population</th>\n",
              "      <th>gdp</th>\n",
              "      <th>continent</th>\n",
              "      <th>region</th>\n",
              "    </tr>\n",
              "  </thead>\n",
              "  <tbody>\n",
              "    <tr>\n",
              "      <th>0</th>\n",
              "      <td>Albania</td>\n",
              "      <td>1960</td>\n",
              "      <td>115.40</td>\n",
              "      <td>62.87</td>\n",
              "      <td>6.19</td>\n",
              "      <td>1636054.0</td>\n",
              "      <td>NaN</td>\n",
              "      <td>Europe</td>\n",
              "      <td>Southern Europe</td>\n",
              "    </tr>\n",
              "    <tr>\n",
              "      <th>1</th>\n",
              "      <td>Algeria</td>\n",
              "      <td>1960</td>\n",
              "      <td>148.20</td>\n",
              "      <td>47.50</td>\n",
              "      <td>7.65</td>\n",
              "      <td>11124892.0</td>\n",
              "      <td>1.382815e+10</td>\n",
              "      <td>Africa</td>\n",
              "      <td>Northern Africa</td>\n",
              "    </tr>\n",
              "    <tr>\n",
              "      <th>2</th>\n",
              "      <td>Angola</td>\n",
              "      <td>1960</td>\n",
              "      <td>208.00</td>\n",
              "      <td>35.98</td>\n",
              "      <td>7.32</td>\n",
              "      <td>5270844.0</td>\n",
              "      <td>NaN</td>\n",
              "      <td>Africa</td>\n",
              "      <td>Middle Africa</td>\n",
              "    </tr>\n",
              "    <tr>\n",
              "      <th>3</th>\n",
              "      <td>Antigua and Barbuda</td>\n",
              "      <td>1960</td>\n",
              "      <td>NaN</td>\n",
              "      <td>62.97</td>\n",
              "      <td>4.43</td>\n",
              "      <td>54681.0</td>\n",
              "      <td>NaN</td>\n",
              "      <td>Americas</td>\n",
              "      <td>Caribbean</td>\n",
              "    </tr>\n",
              "    <tr>\n",
              "      <th>4</th>\n",
              "      <td>Argentina</td>\n",
              "      <td>1960</td>\n",
              "      <td>59.87</td>\n",
              "      <td>65.39</td>\n",
              "      <td>3.11</td>\n",
              "      <td>20619075.0</td>\n",
              "      <td>1.083223e+11</td>\n",
              "      <td>Americas</td>\n",
              "      <td>South America</td>\n",
              "    </tr>\n",
              "  </tbody>\n",
              "</table>\n",
              "</div>"
            ],
            "text/plain": [
              "               country  year  infant_mortality  life_expectancy  fertility  \\\n",
              "0              Albania  1960            115.40            62.87       6.19   \n",
              "1              Algeria  1960            148.20            47.50       7.65   \n",
              "2               Angola  1960            208.00            35.98       7.32   \n",
              "3  Antigua and Barbuda  1960               NaN            62.97       4.43   \n",
              "4            Argentina  1960             59.87            65.39       3.11   \n",
              "\n",
              "   population           gdp continent           region  \n",
              "0   1636054.0           NaN    Europe  Southern Europe  \n",
              "1  11124892.0  1.382815e+10    Africa  Northern Africa  \n",
              "2   5270844.0           NaN    Africa    Middle Africa  \n",
              "3     54681.0           NaN  Americas        Caribbean  \n",
              "4  20619075.0  1.083223e+11  Americas    South America  "
            ]
          },
          "metadata": {},
          "output_type": "display_data"
        }
      ],
      "source": [
        "# Responda aquí:\n",
        "import pandas as pd\n",
        "\n",
        "# Subir archivo al entorno primero\n",
        "data = pd.read_excel(\"gapminder.xlsx\")\n",
        "display(data.head())"
      ]
    },
    {
      "cell_type": "markdown",
      "metadata": {
        "id": "e8BRBSrPa4Lr"
      },
      "source": [
        "2. Muestre información de la base de datos con los métodos `describe` e `info`. ¿Qué aspectos destacan? ¿Y los valores faltantes?"
      ]
    },
    {
      "cell_type": "code",
      "execution_count": null,
      "metadata": {
        "id": "1aks2wFZa4Lr",
        "outputId": "948a652a-6373-46ad-e156-9095eff21b4d"
      },
      "outputs": [
        {
          "data": {
            "text/html": [
              "<div>\n",
              "<style scoped>\n",
              "    .dataframe tbody tr th:only-of-type {\n",
              "        vertical-align: middle;\n",
              "    }\n",
              "\n",
              "    .dataframe tbody tr th {\n",
              "        vertical-align: top;\n",
              "    }\n",
              "\n",
              "    .dataframe thead th {\n",
              "        text-align: right;\n",
              "    }\n",
              "</style>\n",
              "<table border=\"1\" class=\"dataframe\">\n",
              "  <thead>\n",
              "    <tr style=\"text-align: right;\">\n",
              "      <th></th>\n",
              "      <th>count</th>\n",
              "      <th>mean</th>\n",
              "      <th>std</th>\n",
              "      <th>min</th>\n",
              "      <th>25%</th>\n",
              "      <th>50%</th>\n",
              "      <th>75%</th>\n",
              "      <th>max</th>\n",
              "    </tr>\n",
              "  </thead>\n",
              "  <tbody>\n",
              "    <tr>\n",
              "      <th>year</th>\n",
              "      <td>10545.0</td>\n",
              "      <td>1.988000e+03</td>\n",
              "      <td>1.645273e+01</td>\n",
              "      <td>1960.00</td>\n",
              "      <td>1.974000e+03</td>\n",
              "      <td>1.988000e+03</td>\n",
              "      <td>2.002000e+03</td>\n",
              "      <td>2.016000e+03</td>\n",
              "    </tr>\n",
              "    <tr>\n",
              "      <th>infant_mortality</th>\n",
              "      <td>9092.0</td>\n",
              "      <td>5.530862e+01</td>\n",
              "      <td>4.772805e+01</td>\n",
              "      <td>1.50</td>\n",
              "      <td>1.600000e+01</td>\n",
              "      <td>4.150000e+01</td>\n",
              "      <td>8.510000e+01</td>\n",
              "      <td>2.769000e+02</td>\n",
              "    </tr>\n",
              "    <tr>\n",
              "      <th>life_expectancy</th>\n",
              "      <td>10545.0</td>\n",
              "      <td>6.481162e+01</td>\n",
              "      <td>1.067249e+01</td>\n",
              "      <td>13.20</td>\n",
              "      <td>5.750000e+01</td>\n",
              "      <td>6.754000e+01</td>\n",
              "      <td>7.300000e+01</td>\n",
              "      <td>8.390000e+01</td>\n",
              "    </tr>\n",
              "    <tr>\n",
              "      <th>fertility</th>\n",
              "      <td>10358.0</td>\n",
              "      <td>4.083521e+00</td>\n",
              "      <td>2.027320e+00</td>\n",
              "      <td>0.84</td>\n",
              "      <td>2.200000e+00</td>\n",
              "      <td>3.750000e+00</td>\n",
              "      <td>6.000000e+00</td>\n",
              "      <td>9.220000e+00</td>\n",
              "    </tr>\n",
              "    <tr>\n",
              "      <th>population</th>\n",
              "      <td>10360.0</td>\n",
              "      <td>2.701461e+07</td>\n",
              "      <td>1.066649e+08</td>\n",
              "      <td>31238.00</td>\n",
              "      <td>1.333486e+06</td>\n",
              "      <td>5.009043e+06</td>\n",
              "      <td>1.523179e+07</td>\n",
              "      <td>1.376049e+09</td>\n",
              "    </tr>\n",
              "    <tr>\n",
              "      <th>gdp</th>\n",
              "      <td>7573.0</td>\n",
              "      <td>1.479544e+11</td>\n",
              "      <td>6.979128e+11</td>\n",
              "      <td>40395127.89</td>\n",
              "      <td>1.845780e+09</td>\n",
              "      <td>7.794215e+09</td>\n",
              "      <td>5.539965e+10</td>\n",
              "      <td>1.174422e+13</td>\n",
              "    </tr>\n",
              "  </tbody>\n",
              "</table>\n",
              "</div>"
            ],
            "text/plain": [
              "                    count          mean           std          min  \\\n",
              "year              10545.0  1.988000e+03  1.645273e+01      1960.00   \n",
              "infant_mortality   9092.0  5.530862e+01  4.772805e+01         1.50   \n",
              "life_expectancy   10545.0  6.481162e+01  1.067249e+01        13.20   \n",
              "fertility         10358.0  4.083521e+00  2.027320e+00         0.84   \n",
              "population        10360.0  2.701461e+07  1.066649e+08     31238.00   \n",
              "gdp                7573.0  1.479544e+11  6.979128e+11  40395127.89   \n",
              "\n",
              "                           25%           50%           75%           max  \n",
              "year              1.974000e+03  1.988000e+03  2.002000e+03  2.016000e+03  \n",
              "infant_mortality  1.600000e+01  4.150000e+01  8.510000e+01  2.769000e+02  \n",
              "life_expectancy   5.750000e+01  6.754000e+01  7.300000e+01  8.390000e+01  \n",
              "fertility         2.200000e+00  3.750000e+00  6.000000e+00  9.220000e+00  \n",
              "population        1.333486e+06  5.009043e+06  1.523179e+07  1.376049e+09  \n",
              "gdp               1.845780e+09  7.794215e+09  5.539965e+10  1.174422e+13  "
            ]
          },
          "metadata": {},
          "output_type": "display_data"
        },
        {
          "name": "stdout",
          "output_type": "stream",
          "text": [
            "<class 'pandas.core.frame.DataFrame'>\n",
            "RangeIndex: 10545 entries, 0 to 10544\n",
            "Data columns (total 9 columns):\n",
            " #   Column            Non-Null Count  Dtype  \n",
            "---  ------            --------------  -----  \n",
            " 0   country           10545 non-null  object \n",
            " 1   year              10545 non-null  int64  \n",
            " 2   infant_mortality  9092 non-null   float64\n",
            " 3   life_expectancy   10545 non-null  float64\n",
            " 4   fertility         10358 non-null  float64\n",
            " 5   population        10360 non-null  float64\n",
            " 6   gdp               7573 non-null   float64\n",
            " 7   continent         10545 non-null  object \n",
            " 8   region            10545 non-null  object \n",
            "dtypes: float64(5), int64(1), object(3)\n",
            "memory usage: 741.6+ KB\n"
          ]
        }
      ],
      "source": [
        "# Responda aquí:\n",
        "display(data.describe().T)\n",
        "data.info()"
      ]
    },
    {
      "cell_type": "markdown",
      "metadata": {
        "id": "42TnwO7xa4Ls"
      },
      "source": [
        "3. Para el análisis, no tomaremos en cuenta el índice de fertilidad ni la región. Remueva estas variables de la base de datos."
      ]
    },
    {
      "cell_type": "code",
      "execution_count": null,
      "metadata": {
        "id": "MZpWyKy5a4Ls",
        "outputId": "20fb96aa-1ece-4aa8-af89-13d7207be6b9"
      },
      "outputs": [
        {
          "data": {
            "text/html": [
              "<div>\n",
              "<style scoped>\n",
              "    .dataframe tbody tr th:only-of-type {\n",
              "        vertical-align: middle;\n",
              "    }\n",
              "\n",
              "    .dataframe tbody tr th {\n",
              "        vertical-align: top;\n",
              "    }\n",
              "\n",
              "    .dataframe thead th {\n",
              "        text-align: right;\n",
              "    }\n",
              "</style>\n",
              "<table border=\"1\" class=\"dataframe\">\n",
              "  <thead>\n",
              "    <tr style=\"text-align: right;\">\n",
              "      <th></th>\n",
              "      <th>country</th>\n",
              "      <th>year</th>\n",
              "      <th>infant_mortality</th>\n",
              "      <th>life_expectancy</th>\n",
              "      <th>population</th>\n",
              "      <th>gdp</th>\n",
              "      <th>continent</th>\n",
              "    </tr>\n",
              "  </thead>\n",
              "  <tbody>\n",
              "    <tr>\n",
              "      <th>0</th>\n",
              "      <td>Albania</td>\n",
              "      <td>1960</td>\n",
              "      <td>115.40</td>\n",
              "      <td>62.87</td>\n",
              "      <td>1636054.0</td>\n",
              "      <td>NaN</td>\n",
              "      <td>Europe</td>\n",
              "    </tr>\n",
              "    <tr>\n",
              "      <th>1</th>\n",
              "      <td>Algeria</td>\n",
              "      <td>1960</td>\n",
              "      <td>148.20</td>\n",
              "      <td>47.50</td>\n",
              "      <td>11124892.0</td>\n",
              "      <td>1.382815e+10</td>\n",
              "      <td>Africa</td>\n",
              "    </tr>\n",
              "    <tr>\n",
              "      <th>2</th>\n",
              "      <td>Angola</td>\n",
              "      <td>1960</td>\n",
              "      <td>208.00</td>\n",
              "      <td>35.98</td>\n",
              "      <td>5270844.0</td>\n",
              "      <td>NaN</td>\n",
              "      <td>Africa</td>\n",
              "    </tr>\n",
              "    <tr>\n",
              "      <th>3</th>\n",
              "      <td>Antigua and Barbuda</td>\n",
              "      <td>1960</td>\n",
              "      <td>NaN</td>\n",
              "      <td>62.97</td>\n",
              "      <td>54681.0</td>\n",
              "      <td>NaN</td>\n",
              "      <td>Americas</td>\n",
              "    </tr>\n",
              "    <tr>\n",
              "      <th>4</th>\n",
              "      <td>Argentina</td>\n",
              "      <td>1960</td>\n",
              "      <td>59.87</td>\n",
              "      <td>65.39</td>\n",
              "      <td>20619075.0</td>\n",
              "      <td>1.083223e+11</td>\n",
              "      <td>Americas</td>\n",
              "    </tr>\n",
              "  </tbody>\n",
              "</table>\n",
              "</div>"
            ],
            "text/plain": [
              "               country  year  infant_mortality  life_expectancy  population  \\\n",
              "0              Albania  1960            115.40            62.87   1636054.0   \n",
              "1              Algeria  1960            148.20            47.50  11124892.0   \n",
              "2               Angola  1960            208.00            35.98   5270844.0   \n",
              "3  Antigua and Barbuda  1960               NaN            62.97     54681.0   \n",
              "4            Argentina  1960             59.87            65.39  20619075.0   \n",
              "\n",
              "            gdp continent  \n",
              "0           NaN    Europe  \n",
              "1  1.382815e+10    Africa  \n",
              "2           NaN    Africa  \n",
              "3           NaN  Americas  \n",
              "4  1.083223e+11  Americas  "
            ]
          },
          "metadata": {},
          "output_type": "display_data"
        }
      ],
      "source": [
        "# Responda aquí:\n",
        "data = data.drop(columns=[\"fertility\", \"region\"])\n",
        "display(data.head())"
      ]
    },
    {
      "cell_type": "markdown",
      "metadata": {
        "id": "HmRJVslYa4Ls"
      },
      "source": [
        "4. Para ser consistentes, solo consideraremos la información disponible en un solo año. Filtre la base de datos para solo conservar las observaciones del año 2011."
      ]
    },
    {
      "cell_type": "code",
      "execution_count": null,
      "metadata": {
        "id": "d31G5kSua4Ls",
        "outputId": "615a0407-7ac3-4b4b-8dd5-f7d3808fa37d"
      },
      "outputs": [
        {
          "data": {
            "text/html": [
              "<div>\n",
              "<style scoped>\n",
              "    .dataframe tbody tr th:only-of-type {\n",
              "        vertical-align: middle;\n",
              "    }\n",
              "\n",
              "    .dataframe tbody tr th {\n",
              "        vertical-align: top;\n",
              "    }\n",
              "\n",
              "    .dataframe thead th {\n",
              "        text-align: right;\n",
              "    }\n",
              "</style>\n",
              "<table border=\"1\" class=\"dataframe\">\n",
              "  <thead>\n",
              "    <tr style=\"text-align: right;\">\n",
              "      <th></th>\n",
              "      <th>country</th>\n",
              "      <th>year</th>\n",
              "      <th>infant_mortality</th>\n",
              "      <th>life_expectancy</th>\n",
              "      <th>population</th>\n",
              "      <th>gdp</th>\n",
              "      <th>continent</th>\n",
              "    </tr>\n",
              "  </thead>\n",
              "  <tbody>\n",
              "    <tr>\n",
              "      <th>9435</th>\n",
              "      <td>Albania</td>\n",
              "      <td>2011</td>\n",
              "      <td>14.3</td>\n",
              "      <td>77.4</td>\n",
              "      <td>2886010.0</td>\n",
              "      <td>6.321691e+09</td>\n",
              "      <td>Europe</td>\n",
              "    </tr>\n",
              "    <tr>\n",
              "      <th>9436</th>\n",
              "      <td>Algeria</td>\n",
              "      <td>2011</td>\n",
              "      <td>22.8</td>\n",
              "      <td>76.1</td>\n",
              "      <td>36717132.0</td>\n",
              "      <td>8.114345e+10</td>\n",
              "      <td>Africa</td>\n",
              "    </tr>\n",
              "    <tr>\n",
              "      <th>9437</th>\n",
              "      <td>Angola</td>\n",
              "      <td>2011</td>\n",
              "      <td>106.8</td>\n",
              "      <td>58.1</td>\n",
              "      <td>21942296.0</td>\n",
              "      <td>2.701394e+10</td>\n",
              "      <td>Africa</td>\n",
              "    </tr>\n",
              "    <tr>\n",
              "      <th>9438</th>\n",
              "      <td>Antigua and Barbuda</td>\n",
              "      <td>2011</td>\n",
              "      <td>7.2</td>\n",
              "      <td>75.9</td>\n",
              "      <td>88152.0</td>\n",
              "      <td>8.017879e+08</td>\n",
              "      <td>Americas</td>\n",
              "    </tr>\n",
              "    <tr>\n",
              "      <th>9439</th>\n",
              "      <td>Argentina</td>\n",
              "      <td>2011</td>\n",
              "      <td>12.7</td>\n",
              "      <td>76.0</td>\n",
              "      <td>41655616.0</td>\n",
              "      <td>4.729353e+11</td>\n",
              "      <td>Americas</td>\n",
              "    </tr>\n",
              "  </tbody>\n",
              "</table>\n",
              "</div>"
            ],
            "text/plain": [
              "                  country  year  infant_mortality  life_expectancy  \\\n",
              "9435              Albania  2011              14.3             77.4   \n",
              "9436              Algeria  2011              22.8             76.1   \n",
              "9437               Angola  2011             106.8             58.1   \n",
              "9438  Antigua and Barbuda  2011               7.2             75.9   \n",
              "9439            Argentina  2011              12.7             76.0   \n",
              "\n",
              "      population           gdp continent  \n",
              "9435   2886010.0  6.321691e+09    Europe  \n",
              "9436  36717132.0  8.114345e+10    Africa  \n",
              "9437  21942296.0  2.701394e+10    Africa  \n",
              "9438     88152.0  8.017879e+08  Americas  \n",
              "9439  41655616.0  4.729353e+11  Americas  "
            ]
          },
          "metadata": {},
          "output_type": "display_data"
        }
      ],
      "source": [
        "# Responda aquí:\n",
        "data2011 = data.copy().query(\"year == 2011\")\n",
        "# Otra forma: data[data[\"year\"] == 2011]\n",
        "display(data2011.head())"
      ]
    },
    {
      "cell_type": "markdown",
      "metadata": {
        "id": "RbDNf2GTa4Ls"
      },
      "source": [
        "5. ¿Cuántos países hay en cada continente? ¿De que forma esto puede afectar el análisis?"
      ]
    },
    {
      "cell_type": "code",
      "execution_count": null,
      "metadata": {
        "id": "9opyGvPga4Ls",
        "outputId": "2b9e0724-c687-4fd1-f25d-df53d4457070"
      },
      "outputs": [
        {
          "name": "stdout",
          "output_type": "stream",
          "text": [
            "Africa      51\n",
            "Asia        47\n",
            "Europe      39\n",
            "Americas    36\n",
            "Oceania     12\n",
            "Name: continent, dtype: int64\n"
          ]
        }
      ],
      "source": [
        "# Responda aquí:\n",
        "print(data2011[\"continent\"].value_counts())"
      ]
    },
    {
      "cell_type": "code",
      "execution_count": null,
      "metadata": {
        "id": "kcRkTZ_jZFhp"
      },
      "outputs": [],
      "source": [
        "# Esto afecta en que se deberían considerar estadísticos puntuales como la media o mediana."
      ]
    },
    {
      "cell_type": "markdown",
      "metadata": {
        "id": "OwTDvn7ja4Ls"
      },
      "source": [
        "6. Muestre una tabla donde se diferencie el promedio de esperanza de vida en cada continente. ¿Qué es relevante en este análisis?"
      ]
    },
    {
      "cell_type": "code",
      "execution_count": null,
      "metadata": {
        "id": "Ax7yiJ2Ua4Lt",
        "outputId": "a6884dd8-e9f0-4c07-a33b-303a95b66447"
      },
      "outputs": [
        {
          "data": {
            "text/html": [
              "<style type=\"text/css\">\n",
              "#T_d41d8_row0_col0, #T_d41d8_row3_col1 {\n",
              "  background-color: #fff7fb;\n",
              "  color: #000000;\n",
              "}\n",
              "#T_d41d8_row0_col1 {\n",
              "  background-color: #04649d;\n",
              "  color: #f1f1f1;\n",
              "}\n",
              "#T_d41d8_row1_col0 {\n",
              "  background-color: #056aa6;\n",
              "  color: #f1f1f1;\n",
              "}\n",
              "#T_d41d8_row1_col1 {\n",
              "  background-color: #f8f1f8;\n",
              "  color: #000000;\n",
              "}\n",
              "#T_d41d8_row2_col0 {\n",
              "  background-color: #056fae;\n",
              "  color: #f1f1f1;\n",
              "}\n",
              "#T_d41d8_row2_col1 {\n",
              "  background-color: #97b7d7;\n",
              "  color: #000000;\n",
              "}\n",
              "#T_d41d8_row3_col0, #T_d41d8_row4_col1 {\n",
              "  background-color: #023858;\n",
              "  color: #f1f1f1;\n",
              "}\n",
              "#T_d41d8_row4_col0 {\n",
              "  background-color: #69a5cc;\n",
              "  color: #f1f1f1;\n",
              "}\n",
              "</style>\n",
              "<table id=\"T_d41d8_\">\n",
              "  <thead>\n",
              "    <tr>\n",
              "      <th class=\"blank level0\" >&nbsp;</th>\n",
              "      <th class=\"col_heading level0 col0\" colspan=\"2\">life_expectancy</th>\n",
              "    </tr>\n",
              "    <tr>\n",
              "      <th class=\"blank level1\" >&nbsp;</th>\n",
              "      <th class=\"col_heading level1 col0\" >mean</th>\n",
              "      <th class=\"col_heading level1 col1\" >std</th>\n",
              "    </tr>\n",
              "    <tr>\n",
              "      <th class=\"index_name level0\" >continent</th>\n",
              "      <th class=\"blank col0\" >&nbsp;</th>\n",
              "      <th class=\"blank col1\" >&nbsp;</th>\n",
              "    </tr>\n",
              "  </thead>\n",
              "  <tbody>\n",
              "    <tr>\n",
              "      <th id=\"T_d41d8_level0_row0\" class=\"row_heading level0 row0\" >Africa</th>\n",
              "      <td id=\"T_d41d8_row0_col0\" class=\"data row0 col0\" >61.358824</td>\n",
              "      <td id=\"T_d41d8_row0_col1\" class=\"data row0 col1\" >6.829149</td>\n",
              "    </tr>\n",
              "    <tr>\n",
              "      <th id=\"T_d41d8_level0_row1\" class=\"row_heading level0 row1\" >Americas</th>\n",
              "      <td id=\"T_d41d8_row1_col0\" class=\"data row1 col0\" >74.416389</td>\n",
              "      <td id=\"T_d41d8_row1_col1\" class=\"data row1 col1\" >3.788910</td>\n",
              "    </tr>\n",
              "    <tr>\n",
              "      <th id=\"T_d41d8_level0_row2\" class=\"row_heading level0 row2\" >Asia</th>\n",
              "      <td id=\"T_d41d8_row2_col0\" class=\"data row2 col0\" >73.940213</td>\n",
              "      <td id=\"T_d41d8_row2_col1\" class=\"data row2 col1\" >5.225550</td>\n",
              "    </tr>\n",
              "    <tr>\n",
              "      <th id=\"T_d41d8_level0_row3\" class=\"row_heading level0 row3\" >Europe</th>\n",
              "      <td id=\"T_d41d8_row3_col0\" class=\"data row3 col0\" >78.046154</td>\n",
              "      <td id=\"T_d41d8_row3_col1\" class=\"data row3 col1\" >3.603058</td>\n",
              "    </tr>\n",
              "    <tr>\n",
              "      <th id=\"T_d41d8_level0_row4\" class=\"row_heading level0 row4\" >Oceania</th>\n",
              "      <td id=\"T_d41d8_row4_col0\" class=\"data row4 col0\" >70.043333</td>\n",
              "      <td id=\"T_d41d8_row4_col1\" class=\"data row4 col1\" >7.539577</td>\n",
              "    </tr>\n",
              "  </tbody>\n",
              "</table>\n"
            ],
            "text/plain": [
              "<pandas.io.formats.style.Styler at 0x1b7b82a1ee0>"
            ]
          },
          "metadata": {},
          "output_type": "display_data"
        }
      ],
      "source": [
        "# Responda aquí:\n",
        "display(data2011.groupby(\"continent\").agg({\"life_expectancy\": [\"mean\", \"std\"]}).style.background_gradient())"
      ]
    },
    {
      "cell_type": "code",
      "execution_count": null,
      "metadata": {
        "id": "9YAf654cZFhq"
      },
      "outputs": [],
      "source": [
        "# Es revelante que Africa fue el continente con la menor esperanza de vida, mientras que Europa fue la mayor."
      ]
    },
    {
      "cell_type": "markdown",
      "metadata": {
        "id": "wowZFlMHa4Lt"
      },
      "source": [
        "7. Para terminar, nos interesa comparar el PIB medio entre distintos contienentes. Sin embargo, esto carece de sentido ya que es de esperar que en cada país el PIB sea mayor a medida que su población lo sea. Para ello calcule el PIB per-cápita (PIB/población) de cada país y luego genere una tabla que permita calcular el PIB per-cápita medio entre continentes. Discuta sobre otra forma de comparar el PIB entre continentes."
      ]
    },
    {
      "cell_type": "code",
      "execution_count": null,
      "metadata": {
        "id": "8bTqlDCva4Lt",
        "outputId": "23b4eb45-e58c-4d75-b7d5-23e5cf69c6eb"
      },
      "outputs": [
        {
          "data": {
            "text/plain": [
              "9435     2190.460485\n",
              "9436     2209.961500\n",
              "9437     1231.135330\n",
              "9438     9095.516189\n",
              "9439    11353.457243\n",
              "Name: PIB per-capita, dtype: float64"
            ]
          },
          "metadata": {},
          "output_type": "display_data"
        },
        {
          "data": {
            "text/html": [
              "<style type=\"text/css\">\n",
              "#T_7dcce_row0_col0 {\n",
              "  background-color: #fff7fb;\n",
              "  color: #000000;\n",
              "}\n",
              "#T_7dcce_row1_col0 {\n",
              "  background-color: #9cb9d9;\n",
              "  color: #000000;\n",
              "}\n",
              "#T_7dcce_row2_col0 {\n",
              "  background-color: #73a9cf;\n",
              "  color: #f1f1f1;\n",
              "}\n",
              "#T_7dcce_row3_col0 {\n",
              "  background-color: #023858;\n",
              "  color: #f1f1f1;\n",
              "}\n",
              "#T_7dcce_row4_col0 {\n",
              "  background-color: #d9d8ea;\n",
              "  color: #000000;\n",
              "}\n",
              "</style>\n",
              "<table id=\"T_7dcce_\">\n",
              "  <thead>\n",
              "    <tr>\n",
              "      <th class=\"blank level0\" >&nbsp;</th>\n",
              "      <th class=\"col_heading level0 col0\" >PIB per-capita</th>\n",
              "    </tr>\n",
              "    <tr>\n",
              "      <th class=\"index_name level0\" >continent</th>\n",
              "      <th class=\"blank col0\" >&nbsp;</th>\n",
              "    </tr>\n",
              "  </thead>\n",
              "  <tbody>\n",
              "    <tr>\n",
              "      <th id=\"T_7dcce_level0_row0\" class=\"row_heading level0 row0\" >Africa</th>\n",
              "      <td id=\"T_7dcce_row0_col0\" class=\"data row0 col0\" >1332.667353</td>\n",
              "    </tr>\n",
              "    <tr>\n",
              "      <th id=\"T_7dcce_level0_row1\" class=\"row_heading level0 row1\" >Americas</th>\n",
              "      <td id=\"T_7dcce_row1_col0\" class=\"data row1 col0\" >6975.160646</td>\n",
              "    </tr>\n",
              "    <tr>\n",
              "      <th id=\"T_7dcce_level0_row2\" class=\"row_heading level0 row2\" >Asia</th>\n",
              "      <td id=\"T_7dcce_row2_col0\" class=\"data row2 col0\" >8387.146407</td>\n",
              "    </tr>\n",
              "    <tr>\n",
              "      <th id=\"T_7dcce_level0_row3\" class=\"row_heading level0 row3\" >Europe</th>\n",
              "      <td id=\"T_7dcce_row3_col0\" class=\"data row3 col0\" >15375.277039</td>\n",
              "    </tr>\n",
              "    <tr>\n",
              "      <th id=\"T_7dcce_level0_row4\" class=\"row_heading level0 row4\" >Oceania</th>\n",
              "      <td id=\"T_7dcce_row4_col0\" class=\"data row4 col0\" >4247.453679</td>\n",
              "    </tr>\n",
              "  </tbody>\n",
              "</table>\n"
            ],
            "text/plain": [
              "<pandas.io.formats.style.Styler at 0x1b7b75654f0>"
            ]
          },
          "metadata": {},
          "output_type": "display_data"
        }
      ],
      "source": [
        "# Responda aquí:\n",
        "data2011[\"PIB per-capita\"] = data2011[\"gdp\"] / data2011[\"population\"]\n",
        "display(data2011[\"PIB per-capita\"].head())\n",
        "display(data2011.groupby(\"continent\").agg({\"PIB per-capita\": \"mean\"}).style.background_gradient())"
      ]
    },
    {
      "cell_type": "code",
      "execution_count": null,
      "metadata": {
        "id": "-cIOCYIyZFhq",
        "outputId": "abf49602-8858-4c9d-a849-47cd82e9c2d2"
      },
      "outputs": [
        {
          "data": {
            "text/plain": [
              "continent\n",
              "Africa        874.111158\n",
              "Americas    16664.335136\n",
              "Asia         3313.985849\n",
              "Europe      14868.680575\n",
              "Oceania     18393.247154\n",
              "dtype: float64"
            ]
          },
          "execution_count": 48,
          "metadata": {},
          "output_type": "execute_result"
        }
      ],
      "source": [
        "# Otra forma:\n",
        "data_agrupada = data2011.dropna().groupby(\"continent\")\n",
        "data_agrupada[\"gdp\"].sum() / data_agrupada[\"population\"].sum()"
      ]
    }
  ],
  "metadata": {
    "colab": {
      "provenance": [],
      "include_colab_link": true
    },
    "kernelspec": {
      "display_name": "default",
      "language": "python",
      "name": "python3"
    },
    "language_info": {
      "codemirror_mode": {
        "name": "ipython",
        "version": 3
      },
      "file_extension": ".py",
      "mimetype": "text/x-python",
      "name": "python",
      "nbconvert_exporter": "python",
      "pygments_lexer": "ipython3",
      "version": "3.9.12 (main, Apr  4 2022, 05:22:27) [MSC v.1916 64 bit (AMD64)]"
    },
    "orig_nbformat": 4,
    "vscode": {
      "interpreter": {
        "hash": "3fb0f7d9ac85b35c4db44595658f206fada484d7743b0df944cbbd359afb2df3"
      }
    }
  },
  "nbformat": 4,
  "nbformat_minor": 0
}
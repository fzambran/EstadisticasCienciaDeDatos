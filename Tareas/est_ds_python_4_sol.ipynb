{
  "cells": [
    {
      "cell_type": "markdown",
      "metadata": {
        "id": "view-in-github",
        "colab_type": "text"
      },
      "source": [
        "<a href=\"https://colab.research.google.com/github/fzambran/EstadisticasCienciaDeDatos/blob/main/Tareas/est_ds_python_4_sol.ipynb\" target=\"_parent\"><img src=\"https://colab.research.google.com/assets/colab-badge.svg\" alt=\"Open In Colab\"/></a>"
      ]
    },
    {
      "cell_type": "markdown",
      "metadata": {
        "id": "DP_uSa2r-TnS"
      },
      "source": [
        "# Estadística Inferencial II\n",
        "\n",
        "**Estadísticas para la Ciencia de Datos con Python**</br>\n",
        "**Escuela de Informática y Telecomunicaciones**</br>\n",
        "**Duoc UC**\n",
        "\n",
        "---"
      ]
    },
    {
      "cell_type": "markdown",
      "metadata": {
        "id": "JfA0C0Y3Xr9f"
      },
      "source": [
        "### Ejercicios de Práctica\n",
        "\n",
        "Utilice las distribuciones de probabilidad y test de hipótesis para resolver los siguientes ejercicios. Trabaje con un nivel de significancia de 0.05 si corresponde.\n",
        "\n",
        "**1.** La información respecto al proceso de vacunación muestra niveles altos de adherencia en Chile. Sin embargo, en países europeos han tenido problemas dado el alto nivel de rechazo a vacunarse. Datos muestran que en Francia el 55 % de los adultos mayores de residencias geriatricas han rechazado vacunarse. Suponga que un TENS (\"vacunador\") concurre a una residencia geriatrica en Francia, donde residen 35 adultos mayores, con solo 12 dosis.\n",
        "\n",
        "Suponiendo que cada adulto mayor decide vacunarse o no de manera independiente. ¿Cuál es la probabilidad de que todos los adultos mayores que deseen vacunarse puedan hacerlo?."
      ]
    },
    {
      "cell_type": "code",
      "execution_count": null,
      "metadata": {
        "id": "-4880frLXr9g",
        "outputId": "4a17dfbd-f5e9-495f-9a66-a68d695dc02d"
      },
      "outputs": [
        {
          "data": {
            "text/plain": [
              "0.13435712770650762"
            ]
          },
          "execution_count": 79,
          "metadata": {},
          "output_type": "execute_result"
        }
      ],
      "source": [
        "# Responda aquí\n",
        "from scipy.stats import binom\n",
        "p_acepta = 1 - 0.55\n",
        "n = 35\n",
        "k = 12\n",
        "\n",
        "binom.cdf(k=k, n=n, p=p_acepta)"
      ]
    },
    {
      "cell_type": "markdown",
      "metadata": {
        "id": "hIzMX-WkXr9i"
      },
      "source": [
        "**2.** En un supermercado, llegan en promedio 100 clientes por hora, cálcule:\n",
        "* ¿Cuál es la probabilidad de que lleguen 110 clientes en una hora?\n",
        "* ¿Cuál es la probabilidad de que lleguen menos de 90 clientes en una hora?\n",
        "* ¿Cuál es la probabilidad de que lleguen entre 90 y 110 clientes en una hora?"
      ]
    },
    {
      "cell_type": "code",
      "execution_count": null,
      "metadata": {
        "id": "D05FC9RMXr9i",
        "outputId": "cbbf5349-8c3b-4d81-97e8-be24bf2cf4fe"
      },
      "outputs": [
        {
          "data": {
            "text/plain": [
              "0.023422549465837085"
            ]
          },
          "execution_count": 85,
          "metadata": {},
          "output_type": "execute_result"
        }
      ],
      "source": [
        "# Responda aquí\n",
        "from scipy.stats import poisson\n",
        "mu = 100\n",
        "# 1\n",
        "poisson.pmf(k=110, mu=mu)"
      ]
    },
    {
      "cell_type": "code",
      "execution_count": null,
      "metadata": {
        "id": "R2e9xsmjXr9j",
        "outputId": "6c7d9649-bd38-4a34-9f58-7380086c8039"
      },
      "outputs": [
        {
          "data": {
            "text/plain": [
              "0.02253505016072871"
            ]
          },
          "execution_count": 86,
          "metadata": {},
          "output_type": "execute_result"
        }
      ],
      "source": [
        "# 2\n",
        "poisson.pmf(k=89, mu=mu)"
      ]
    },
    {
      "cell_type": "code",
      "execution_count": null,
      "metadata": {
        "id": "l8vwwofWXr9j",
        "outputId": "f381587d-2fbf-44bb-ff36-880fae4ea640"
      },
      "outputs": [
        {
          "data": {
            "text/plain": [
              "0.7065164768589975"
            ]
          },
          "execution_count": 87,
          "metadata": {},
          "output_type": "execute_result"
        }
      ],
      "source": [
        "# 3\n",
        "poisson.cdf(k=110, mu=mu) - poisson.cdf(k=89, mu=mu)"
      ]
    },
    {
      "cell_type": "markdown",
      "metadata": {
        "id": "ALwP-bGxXr9j"
      },
      "source": [
        "**3.** Considerando el supermercado anterior, ¿Cuál es la probabilidad de que llege un cliente en 30 segundos?"
      ]
    },
    {
      "cell_type": "code",
      "execution_count": null,
      "metadata": {
        "id": "FPNK603mXr9j",
        "outputId": "74870b65-c774-4596-e3a0-3cd445301f5b"
      },
      "outputs": [
        {
          "data": {
            "text/plain": [
              "0.5654017914929217"
            ]
          },
          "execution_count": 88,
          "metadata": {},
          "output_type": "execute_result"
        }
      ],
      "source": [
        "# Responda aquí\n",
        "from scipy.stats import expon\n",
        "\n",
        "expon.cdf(x=30/60/60, scale=1/100)"
      ]
    },
    {
      "cell_type": "markdown",
      "metadata": {
        "id": "tusvFm8OXr9k"
      },
      "source": [
        "**4.** Considere la base de datos `ENS_reducida.xlsx` con los resultados de la Encuesta de Salud Aplicada el año 2018. Realice un test de hipótesis para estudiar si existe asociación entre el nivel de educación y ser fumador."
      ]
    },
    {
      "cell_type": "code",
      "execution_count": null,
      "metadata": {
        "id": "izkYe5WLXr9k"
      },
      "outputs": [],
      "source": [
        "!wget https://raw.githubusercontent.com/estebanrucan/bases-de-datos/main/ENS_reducida.xlsx"
      ]
    },
    {
      "cell_type": "code",
      "execution_count": null,
      "metadata": {
        "id": "WAF7W1qDXr9k",
        "outputId": "e4c03358-07f6-4d9a-8a80-fe0813252ed2"
      },
      "outputs": [
        {
          "data": {
            "text/html": [
              "<div>\n",
              "<style scoped>\n",
              "    .dataframe tbody tr th:only-of-type {\n",
              "        vertical-align: middle;\n",
              "    }\n",
              "\n",
              "    .dataframe tbody tr th {\n",
              "        vertical-align: top;\n",
              "    }\n",
              "\n",
              "    .dataframe thead th {\n",
              "        text-align: right;\n",
              "    }\n",
              "</style>\n",
              "<table border=\"1\" class=\"dataframe\">\n",
              "  <thead>\n",
              "    <tr style=\"text-align: right;\">\n",
              "      <th></th>\n",
              "      <th>COLESTEROL</th>\n",
              "      <th>HDL</th>\n",
              "      <th>EDAD</th>\n",
              "      <th>FUMA</th>\n",
              "      <th>NEDU</th>\n",
              "      <th>SEXO</th>\n",
              "      <th>PAS</th>\n",
              "      <th>PAD</th>\n",
              "      <th>TALLA</th>\n",
              "      <th>CINTURA</th>\n",
              "      <th>CUELLO</th>\n",
              "      <th>IMC</th>\n",
              "      <th>PESO</th>\n",
              "      <th>DEPORTE</th>\n",
              "      <th>DIABETES</th>\n",
              "    </tr>\n",
              "  </thead>\n",
              "  <tbody>\n",
              "    <tr>\n",
              "      <th>0</th>\n",
              "      <td>161.6146</td>\n",
              "      <td>43.2533</td>\n",
              "      <td>21</td>\n",
              "      <td>No</td>\n",
              "      <td>&gt; 12 ños</td>\n",
              "      <td>Femenino</td>\n",
              "      <td>109.3657</td>\n",
              "      <td>69.7861</td>\n",
              "      <td>159.2240</td>\n",
              "      <td>68.2223</td>\n",
              "      <td>30.5067</td>\n",
              "      <td>21.1469</td>\n",
              "      <td>53.6123</td>\n",
              "      <td>No</td>\n",
              "      <td>No</td>\n",
              "    </tr>\n",
              "    <tr>\n",
              "      <th>1</th>\n",
              "      <td>221.9609</td>\n",
              "      <td>45.9553</td>\n",
              "      <td>59</td>\n",
              "      <td>No</td>\n",
              "      <td>8 - 12 años</td>\n",
              "      <td>Masculino</td>\n",
              "      <td>149.1800</td>\n",
              "      <td>89.8402</td>\n",
              "      <td>171.2648</td>\n",
              "      <td>88.1016</td>\n",
              "      <td>40.7788</td>\n",
              "      <td>30.2438</td>\n",
              "      <td>88.7100</td>\n",
              "      <td>No</td>\n",
              "      <td>No</td>\n",
              "    </tr>\n",
              "    <tr>\n",
              "      <th>2</th>\n",
              "      <td>254.8755</td>\n",
              "      <td>87.2984</td>\n",
              "      <td>51</td>\n",
              "      <td>No</td>\n",
              "      <td>8 - 12 años</td>\n",
              "      <td>Femenino</td>\n",
              "      <td>139.1653</td>\n",
              "      <td>82.8118</td>\n",
              "      <td>163.5937</td>\n",
              "      <td>110.4856</td>\n",
              "      <td>38.4818</td>\n",
              "      <td>21.5239</td>\n",
              "      <td>57.6042</td>\n",
              "      <td>No</td>\n",
              "      <td>Si</td>\n",
              "    </tr>\n",
              "    <tr>\n",
              "      <th>3</th>\n",
              "      <td>187.3437</td>\n",
              "      <td>57.3342</td>\n",
              "      <td>50</td>\n",
              "      <td>No</td>\n",
              "      <td>&gt; 12 ños</td>\n",
              "      <td>Masculino</td>\n",
              "      <td>174.1770</td>\n",
              "      <td>113.4944</td>\n",
              "      <td>166.8728</td>\n",
              "      <td>97.9801</td>\n",
              "      <td>37.8982</td>\n",
              "      <td>30.6329</td>\n",
              "      <td>85.3021</td>\n",
              "      <td>No</td>\n",
              "      <td>No</td>\n",
              "    </tr>\n",
              "    <tr>\n",
              "      <th>4</th>\n",
              "      <td>252.3962</td>\n",
              "      <td>31.7201</td>\n",
              "      <td>60</td>\n",
              "      <td>Si</td>\n",
              "      <td>&lt; 8 años</td>\n",
              "      <td>Masculino</td>\n",
              "      <td>150.7024</td>\n",
              "      <td>78.7364</td>\n",
              "      <td>147.6984</td>\n",
              "      <td>81.1719</td>\n",
              "      <td>35.8163</td>\n",
              "      <td>31.3944</td>\n",
              "      <td>68.4862</td>\n",
              "      <td>No</td>\n",
              "      <td>Si</td>\n",
              "    </tr>\n",
              "  </tbody>\n",
              "</table>\n",
              "</div>"
            ],
            "text/plain": [
              "   COLESTEROL      HDL  EDAD FUMA         NEDU       SEXO       PAS       PAD  \\\n",
              "0    161.6146  43.2533    21   No     > 12 ños   Femenino  109.3657   69.7861   \n",
              "1    221.9609  45.9553    59   No  8 - 12 años  Masculino  149.1800   89.8402   \n",
              "2    254.8755  87.2984    51   No  8 - 12 años   Femenino  139.1653   82.8118   \n",
              "3    187.3437  57.3342    50   No     > 12 ños  Masculino  174.1770  113.4944   \n",
              "4    252.3962  31.7201    60   Si     < 8 años  Masculino  150.7024   78.7364   \n",
              "\n",
              "      TALLA   CINTURA   CUELLO      IMC     PESO DEPORTE DIABETES  \n",
              "0  159.2240   68.2223  30.5067  21.1469  53.6123      No       No  \n",
              "1  171.2648   88.1016  40.7788  30.2438  88.7100      No       No  \n",
              "2  163.5937  110.4856  38.4818  21.5239  57.6042      No       Si  \n",
              "3  166.8728   97.9801  37.8982  30.6329  85.3021      No       No  \n",
              "4  147.6984   81.1719  35.8163  31.3944  68.4862      No       Si  "
            ]
          },
          "execution_count": 69,
          "metadata": {},
          "output_type": "execute_result"
        }
      ],
      "source": [
        "import pandas as pd\n",
        "\n",
        "data = pd.read_excel(\"ENS_reducida.xlsx\")\n",
        "data.head()"
      ]
    },
    {
      "cell_type": "code",
      "execution_count": null,
      "metadata": {
        "id": "aO1qaQpGXr9l",
        "outputId": "6e6b0901-0b64-41c6-c124-6a425e737c44"
      },
      "outputs": [
        {
          "data": {
            "text/html": [
              "<div>\n",
              "<style scoped>\n",
              "    .dataframe tbody tr th:only-of-type {\n",
              "        vertical-align: middle;\n",
              "    }\n",
              "\n",
              "    .dataframe tbody tr th {\n",
              "        vertical-align: top;\n",
              "    }\n",
              "\n",
              "    .dataframe thead th {\n",
              "        text-align: right;\n",
              "    }\n",
              "</style>\n",
              "<table border=\"1\" class=\"dataframe\">\n",
              "  <thead>\n",
              "    <tr style=\"text-align: right;\">\n",
              "      <th>NEDU</th>\n",
              "      <th>8 - 12 años</th>\n",
              "      <th>&lt; 8 años</th>\n",
              "      <th>&gt; 12 ños</th>\n",
              "    </tr>\n",
              "    <tr>\n",
              "      <th>FUMA</th>\n",
              "      <th></th>\n",
              "      <th></th>\n",
              "      <th></th>\n",
              "    </tr>\n",
              "  </thead>\n",
              "  <tbody>\n",
              "    <tr>\n",
              "      <th>No</th>\n",
              "      <td>125</td>\n",
              "      <td>72</td>\n",
              "      <td>33</td>\n",
              "    </tr>\n",
              "    <tr>\n",
              "      <th>Si</th>\n",
              "      <td>69</td>\n",
              "      <td>19</td>\n",
              "      <td>32</td>\n",
              "    </tr>\n",
              "  </tbody>\n",
              "</table>\n",
              "</div>"
            ],
            "text/plain": [
              "NEDU  8 - 12 años  < 8 años  > 12 ños\n",
              "FUMA                                 \n",
              "No            125        72        33\n",
              "Si             69        19        32"
            ]
          },
          "execution_count": 71,
          "metadata": {},
          "output_type": "execute_result"
        }
      ],
      "source": [
        "pd.crosstab(data[\"FUMA\"], data[\"NEDU\"])"
      ]
    },
    {
      "cell_type": "code",
      "execution_count": null,
      "metadata": {
        "id": "0-fYu_VMXr9l",
        "outputId": "8aacb1ad-3e66-463c-82ce-92db9f4af1e1"
      },
      "outputs": [
        {
          "data": {
            "text/plain": [
              "\n",
              "    \u001b[1m\u001b[4mPearson's Chi-squared test\u001b[0m\n",
              "    X-squared = 13.8445 | df = 2 | p-value = 0.0010\n",
              "    alternative hypothesis: true frequencies are not equal to expected frequencies"
            ]
          },
          "execution_count": 70,
          "metadata": {},
          "output_type": "execute_result"
        }
      ],
      "source": [
        "from estyp.testing import chisq_test\n",
        "\n",
        "chisq_test(data[\"FUMA\"], y = data[\"NEDU\"])"
      ]
    },
    {
      "cell_type": "code",
      "execution_count": null,
      "metadata": {
        "id": "tnQ_aTEDXr9m"
      },
      "outputs": [],
      "source": [
        "# El valor-p indica una discordancia entre H_0 y los datos, por lo que se rechaza H_0. Existe evidencia estadística hacia que el nivel educativo y el hábito de fumar podrían estar asociados."
      ]
    },
    {
      "cell_type": "markdown",
      "metadata": {
        "id": "Nv_T9TfCXr9m"
      },
      "source": [
        "**5.** Los resultados de la encuesta a nivel poblacional el año 2015 indicaron que el 20% de las personas practicaba al menos un deporte. Estudie si el total de personas que practican al menos un deporte ha aumentado en 2018."
      ]
    },
    {
      "cell_type": "code",
      "execution_count": null,
      "metadata": {
        "id": "y2jZS0tjXr9m",
        "outputId": "dbb39e28-83d4-47c8-8945-064a82a48acd"
      },
      "outputs": [
        {
          "name": "stdout",
          "output_type": "stream",
          "text": [
            "DEPORTE\n",
            "No    282\n",
            "Si     68\n",
            "Name: count, dtype: int64\n"
          ]
        }
      ],
      "source": [
        "cuenta_deportistas = data[\"DEPORTE\"].value_counts()\n",
        "print(cuenta_deportistas)"
      ]
    },
    {
      "cell_type": "code",
      "execution_count": null,
      "metadata": {
        "id": "L0E2YowuXr9m",
        "outputId": "5a618b2d-1931-49e9-9dc7-664152c3c498"
      },
      "outputs": [
        {
          "data": {
            "text/plain": [
              "\n",
              "    \u001b[1m\u001b[4m1-sample test for equality of proportions with continuity correction\u001b[0m\n",
              "    X-squared = 0.0402 | df = 1 | p-value = 0.5794\n",
              "    alternative hypothesis: the true proportion is less than 0.8000\n",
              "    95 percent confidence interval:\n",
              "     0.000000 0.839422\n",
              "    sample estimates:\n",
              "      proportion(s): 0.805714\n",
              "    "
            ]
          },
          "execution_count": 76,
          "metadata": {},
          "output_type": "execute_result"
        }
      ],
      "source": [
        "prop_test(cuenta_deportistas, p=0.80, alternative=\"less\")"
      ]
    },
    {
      "cell_type": "code",
      "execution_count": null,
      "metadata": {
        "id": "TkoXgnAQXr9n"
      },
      "outputs": [],
      "source": [
        "# El valor-p indica una concordancia entre H_0 y los datos, por lo que no se rechaza H_0. Existe evidencia estadística hacia que el porcentaje de deportistas en la población es mayor al 20%."
      ]
    },
    {
      "cell_type": "markdown",
      "metadata": {
        "id": "M2bFccYrXr9n"
      },
      "source": [
        "**6.** Estudie si la variabilidad de la presión sistólica en fumadores es menor a la variabilidad de la presión sistólica en no fumadores."
      ]
    },
    {
      "cell_type": "code",
      "execution_count": null,
      "metadata": {
        "id": "9DHPDTUrXr9n",
        "outputId": "5ba846dd-5094-4e18-faee-2b627efc2d26"
      },
      "outputs": [
        {
          "data": {
            "text/plain": [
              "\n",
              "    \u001b[1m\u001b[4mF test to compare two variances\u001b[0m\n",
              "    F = 0.6294 | df = {'x': 119, 'y': 229} | p-value = 0.0026\n",
              "    alternative hypothesis: true ratio of variances is less than 1\n",
              "    95 percent confidence interval:\n",
              "     0.000000 0.824607\n",
              "    sample estimates:\n",
              "      ratio of variances: 0.629426\n",
              "    "
            ]
          },
          "execution_count": 77,
          "metadata": {},
          "output_type": "execute_result"
        }
      ],
      "source": [
        "from estyp.testing import var_test\n",
        "\n",
        "fumadores = data[data[\"FUMA\"] == \"Si\"][\"PAS\"]\n",
        "no_fumadores = data[data[\"FUMA\"] == \"No\"][\"PAS\"]\n",
        "\n",
        "var_test(x=fumadores, y=no_fumadores, alternative=\"less\")"
      ]
    },
    {
      "cell_type": "code",
      "execution_count": null,
      "metadata": {
        "id": "1tz0L28jXr9n"
      },
      "outputs": [],
      "source": [
        "# El valor-p indica una discordancia entre los datos y $H_0$, por lo que se rechaza $H_0$. En otras palabras, hay evidencia estadística hacia que la variabilidad de los puntajes de lectura es menor a la variabilidad de los puntajes de escritura."
      ]
    }
  ],
  "metadata": {
    "colab": {
      "provenance": [],
      "include_colab_link": true
    },
    "kernelspec": {
      "display_name": "default",
      "language": "python",
      "name": "python3"
    },
    "language_info": {
      "codemirror_mode": {
        "name": "ipython",
        "version": 3
      },
      "file_extension": ".py",
      "mimetype": "text/x-python",
      "name": "python",
      "nbconvert_exporter": "python",
      "pygments_lexer": "ipython3",
      "version": "3.11.5"
    },
    "orig_nbformat": 4,
    "vscode": {
      "interpreter": {
        "hash": "3fb0f7d9ac85b35c4db44595658f206fada484d7743b0df944cbbd359afb2df3"
      }
    }
  },
  "nbformat": 4,
  "nbformat_minor": 0
}
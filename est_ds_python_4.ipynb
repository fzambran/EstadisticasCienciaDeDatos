{
  "cells": [
    {
      "cell_type": "markdown",
      "metadata": {
        "id": "view-in-github",
        "colab_type": "text"
      },
      "source": [
        "<a href=\"https://colab.research.google.com/github/fzambran/EstadisticasCienciaDeDatos/blob/main/est_ds_python_4.ipynb\" target=\"_parent\"><img src=\"https://colab.research.google.com/assets/colab-badge.svg\" alt=\"Open In Colab\"/></a>"
      ]
    },
    {
      "cell_type": "markdown",
      "metadata": {
        "id": "DP_uSa2r-TnS"
      },
      "source": [
        "# Estadística Inferencial II\n",
        "\n",
        "**Estadísticas para la Ciencia de Datos con Python**</br>\n",
        "**Escuela de Informática y Telecomunicaciones**</br>\n",
        "**Duoc UC**\n",
        "\n",
        "---"
      ]
    },
    {
      "cell_type": "markdown",
      "metadata": {
        "id": "3UT4j6YicPGl"
      },
      "source": [
        "Uno de los desafíos importantes del Científico de Datos, es utilizar las herramientas estadísticas de manera correcta, y para ello es necesario conocer las distribuciones de probabilidad y sus propiedades. En esta sesión veremos las distribuciones más utilizadas en el análisis de datos, y cómo utilizarlas para realizar test de hipótesis.\n",
        "\n",
        "De momento hemos visto las distribuciones T de Student y Normal, y cómo utilizarlas para realizar test de hipótesis. En esta sesión veremos nuevas distribuciones, con el fin de incorporar nuevos test de hipótesis a nuestro repertorio."
      ]
    },
    {
      "cell_type": "markdown",
      "metadata": {
        "id": "MNIX2r6a43Xe"
      },
      "source": [
        "### Distribución Bernoulli\n",
        "\n",
        "* La distribución Bernoulli es una distribución de probabilidad **discreta** (su dominio es 0 o 1).\n",
        "* Tiene un único parámetro $p$, que es la probabilidad de éxito.\n",
        "* Un experimento de Bernoulli se caracteriza por ser dicotómico, esto es, sólo son posibles dos resultados. A uno de estos se denomina éxito y tiene una probabilidad de ocurrencia $p$, y al otro, fracaso, con una probabilidad $q = 1 - p$, de ocurrencia.\n",
        "* Se utiliza la función `bernoulli.pmf(k, p)` de `scipy.stats` para generar una distribución Bernoulli.\n",
        "* El ejemplo clásiico de Bernoulli es el lanzamiento de una moneda, donde el resultado puede ser cara o sello."
      ]
    },
    {
      "cell_type": "code",
      "execution_count": null,
      "metadata": {
        "id": "E7-Xe76w43Xf",
        "outputId": "3ef96c77-22ba-4cba-e20c-7f97d1b795d3"
      },
      "outputs": [
        {
          "data": {
            "text/plain": [
              "0.5"
            ]
          },
          "execution_count": 6,
          "metadata": {},
          "output_type": "execute_result"
        }
      ],
      "source": [
        "from scipy.stats import bernoulli\n",
        "\n",
        "# ME SALE CARA : 1\n",
        "# NO SALE CARA : 0\n",
        "\n",
        "bernoulli.pmf(k=1, p=0.5)"
      ]
    },
    {
      "cell_type": "markdown",
      "metadata": {
        "id": "zmrKlgF0cPGl"
      },
      "source": [
        "### Distribución Binomial\n",
        "\n",
        "* La distribución Binomial es una distribución de probabilidad **discreta** (su dominio son los números naturales) que cuenta el número de éxitos en una secuencia de $n$ ensayos de Bernoulli independientes entre sí, con una probabilidad fija $p$ de ocurrencia del éxito entre los ensayos.\n",
        "* En la distribución binomial el anterior experimento se repite $n$ veces, de forma independiente. En otras palabras:\n",
        "    * El experimento consiste en $n$ repeticiones del mismo proceso.\n",
        "    * Cada repetición del experimento sólo puede tener dos resultados posibles, que denominaremos éxito y fracaso.\n",
        "    * La probabilidad de éxito, $p$, es constante en todas las repeticiones del experimento.\n",
        "    * Las repeticiones del experimento son independientes entre sí, es decir, el resultado de una repetición no influye en los resultados de las otras."
      ]
    },
    {
      "cell_type": "code",
      "execution_count": null,
      "metadata": {
        "colab": {
          "referenced_widgets": [
            "db5f2ed3c95648cab53bb510f9b83957",
            "9abc13fea12e4658b3505a8d47ac8019",
            "f763247b5e624cd9929b4af461bfc4aa",
            "1c1fb363e7ab42f8b57cf9dcc815f414",
            "ae9075b872fe4fb9b7ac273ab705effb",
            "89184756db4645b39b614cb11b84d928",
            "4a7e4c9939104ac289023c225754f434",
            "a5928fa4250442ee9eeeb5259d9e012f",
            "b8e3b2851c6447fa9a29b520c7eb97d4",
            "397e1cdeb707428c8e77994544a57afe"
          ],
          "base_uri": "https://localhost:8080/",
          "height": 536
        },
        "id": "ctHzP3pGcPGm",
        "outputId": "61aacc8d-bc5a-4617-d78b-f58fe628cb72"
      },
      "outputs": [
        {
          "output_type": "display_data",
          "data": {
            "text/plain": [
              "interactive(children=(IntSlider(value=10, description='n:', max=50, min=1), FloatSlider(value=0.5, description…"
            ],
            "application/vnd.jupyter.widget-view+json": {
              "version_major": 2,
              "version_minor": 0,
              "model_id": "db5f2ed3c95648cab53bb510f9b83957"
            }
          },
          "metadata": {}
        }
      ],
      "source": [
        "import numpy as np\n",
        "import matplotlib.pyplot as plt\n",
        "from scipy.stats import binom\n",
        "import ipywidgets as widgets\n",
        "\n",
        "# Función para graficar la distribución binomial\n",
        "def plot_binomial_distribution(n, p):\n",
        "    x = np.arange(0, n + 1)\n",
        "    y = binom.pmf(x, n, p)\n",
        "\n",
        "    plt.bar(x, y)\n",
        "    plt.title(f'Distribución Binomial (n={n}, p={p})')\n",
        "    plt.xlabel('Número de Éxitos')\n",
        "    plt.ylabel('Probabilidad')\n",
        "    plt.show()\n",
        "\n",
        "# Crear controles interactivos\n",
        "n_slider = widgets.IntSlider(value=10, min=1, max=50, step=1, description='n:')\n",
        "p_slider = widgets.FloatSlider(value=0.5, min=0, max=1, step=0.05, description='p:')\n",
        "\n",
        "# Crear widget interactivo\n",
        "interactive_plot = widgets.interactive(plot_binomial_distribution, n=n_slider, p=p_slider)\n",
        "\n",
        "# Mostrar widget interactivo\n",
        "display(interactive_plot)\n"
      ]
    },
    {
      "cell_type": "markdown",
      "metadata": {
        "id": "HPOLK4O5cPGn"
      },
      "source": [
        "* Se utiliza la función `binom.pmf(k, n, p)` del módulo `stats` de `scipy` para calcular la probabilidad de que ocurran $k$ éxitos en $n$ ensayos, con una probabilidad de éxito $p$.\n",
        "* `pmf`: Probability Mass Function (Función de Masa de Probabilidad).\n",
        "* Por ejemplo, si lanzamos una moneda 10 veces, y queremos saber la probabilidad de que salga cara 3 veces, podemos utilizar la distribución binomial para calcular dicha probabilidad. En este caso, $n = 10$, $p = 0.5$ y $k = 3$."
      ]
    },
    {
      "cell_type": "code",
      "execution_count": null,
      "metadata": {
        "id": "Wh-U7KelcPGn",
        "outputId": "b25ed704-ed86-4792-dc62-cdaaf3eebdd3"
      },
      "outputs": [
        {
          "data": {
            "text/plain": [
              "0.1171875"
            ]
          },
          "execution_count": 8,
          "metadata": {},
          "output_type": "execute_result"
        }
      ],
      "source": [
        "binom.pmf(k=3, n=10, p=0.5)\n"
      ]
    },
    {
      "cell_type": "markdown",
      "metadata": {
        "id": "WBZvMsMCcPGn"
      },
      "source": [
        "* Y si quisieramos saber la probabilidad de que salga cara 3 o menos veces, podemos utilizar la función `binom.cdf(k, n, p)`. En este caso, $n = 10$, $p = 0.5$ y $k = 3$.\n",
        "* `cdf`: Cumulative Distribution Function (Función de Distribución Acumulada)."
      ]
    },
    {
      "cell_type": "code",
      "execution_count": null,
      "metadata": {
        "id": "83GjyleccPGn",
        "outputId": "bb3edfa1-0d4c-4170-901a-8c584411b78a"
      },
      "outputs": [
        {
          "data": {
            "text/plain": [
              "0.171875"
            ]
          },
          "execution_count": 9,
          "metadata": {},
          "output_type": "execute_result"
        }
      ],
      "source": [
        "binom.cdf(k=3, n=10, p=0.5)"
      ]
    },
    {
      "cell_type": "markdown",
      "metadata": {
        "id": "2N-JnncPcPGn"
      },
      "source": [
        "Recordar que al ser una distribución de probabilida discreta, se puede obtener la probabilidad puntual de que ocurra un evento. A diferencia de las distribuciones continuas: al ser infinitos los valores posibles, la probabilidad puntual es cero, por lo que se utiliza la nocion de densidad en estos casos."
      ]
    },
    {
      "cell_type": "markdown",
      "metadata": {
        "id": "efOTL4_icPGn"
      },
      "source": [
        "### Distribución Poisson\n",
        "\n",
        "* La distribución de Poisson es una distribución de probabilidad **discreta** (su dominio son los números naturales) que expresa, a partir de una frecuencia de ocurrencia media, la probabilidad de que ocurra un determinado número de eventos durante cierto período de tiempo.\n",
        "* La distribución de Poisson se aplica a aquellos procesos en los que se dan un número de eventos por unidad de tiempo.\n",
        "\n"
      ]
    },
    {
      "cell_type": "code",
      "execution_count": null,
      "metadata": {
        "colab": {
          "referenced_widgets": [
            "4d6d33da793e4a789251e5b44708c6cf",
            "14ff5e01b8ae4942a82e681751cd3617",
            "2f149a7692bd406bb83caebb8007574c",
            "a224a0bea05740ac95599065ae8e70f2",
            "8d0c261ca2464433bf708faa842c42d6",
            "b1314fa074af4b41aadfdc50c3e90f6c",
            "900fbe66c85144ca9bd3a78b53a96c29"
          ],
          "base_uri": "https://localhost:8080/",
          "height": 504
        },
        "id": "PyO6q0A-cPGn",
        "outputId": "81e3742c-a50b-4f0b-f0d0-6255c2898b91"
      },
      "outputs": [
        {
          "output_type": "display_data",
          "data": {
            "text/plain": [
              "interactive(children=(FloatSlider(value=2.0, description='λ:', max=20.0, min=0.1), Output()), _dom_classes=('w…"
            ],
            "application/vnd.jupyter.widget-view+json": {
              "version_major": 2,
              "version_minor": 0,
              "model_id": "4d6d33da793e4a789251e5b44708c6cf"
            }
          },
          "metadata": {}
        }
      ],
      "source": [
        "from scipy.stats import poisson\n",
        "\n",
        "# Función para graficar la distribución Poisson\n",
        "def plot_poisson_distribution(lmbda):\n",
        "    x = np.arange(0, 21)\n",
        "    y = poisson.pmf(x, lmbda)\n",
        "\n",
        "    plt.bar(x, y)\n",
        "    plt.title(f'Distribución Poisson (λ={lmbda:0.2f})')\n",
        "    plt.xlabel('Número de Eventos')\n",
        "    plt.ylabel('Probabilidad')\n",
        "    plt.show()\n",
        "\n",
        "# Crear control interactivo\n",
        "lmbda_slider = widgets.FloatSlider(value=2, min=0.1, max=20, step=0.1, description='λ:')\n",
        "\n",
        "# Crear widget interactivo\n",
        "interactive_plot = widgets.interactive(plot_poisson_distribution, lmbda=lmbda_slider)\n",
        "\n",
        "# Mostrar widget interactivo\n",
        "display(interactive_plot)\n"
      ]
    },
    {
      "cell_type": "markdown",
      "metadata": {
        "id": "OEbYXFhQcPGo"
      },
      "source": [
        "* Se utiliza la función `poisson.pmf(k, mu)` del módulo `stats` de `scipy` para calcular la probabilidad de que ocurran $k$ eventos en un período de tiempo, con una frecuencia de ocurrencia media $\\mu$.\n",
        "* Por ejemplo, si en promedio se producen 2 accidentes de tránsito por día, ¿cuál es la probabilidad de que ocurran 3 accidentes de tránsito en un día? En este caso, $\\mu = 2$ y $k = 3$."
      ]
    },
    {
      "cell_type": "code",
      "execution_count": null,
      "metadata": {
        "id": "XfLeeeQ_cPGo",
        "outputId": "0c02a8d9-b06a-49f1-8045-65d259c1fe80"
      },
      "outputs": [
        {
          "data": {
            "text/plain": [
              "0.18044704431548358"
            ]
          },
          "execution_count": 11,
          "metadata": {},
          "output_type": "execute_result"
        }
      ],
      "source": [
        "poisson.pmf(k=3, mu=2)"
      ]
    },
    {
      "cell_type": "markdown",
      "metadata": {
        "id": "9Sv0EL3BcPGo"
      },
      "source": [
        "* ¿Y cuál es la probabilidad de que ocurran 4 accidentes o más en un día?"
      ]
    },
    {
      "cell_type": "markdown",
      "source": [
        "\n",
        "$$\n",
        "P(X\\geq4)=1-P(X\\leq 3)\n",
        "$$"
      ],
      "metadata": {
        "id": "l1x710H2AEFS"
      }
    },
    {
      "cell_type": "code",
      "execution_count": null,
      "metadata": {
        "id": "O3cPudVhcPGo",
        "outputId": "4c2ed326-393e-4a17-c819-22569fb89c72"
      },
      "outputs": [
        {
          "data": {
            "text/plain": [
              "0.14287653950145296"
            ]
          },
          "execution_count": 12,
          "metadata": {},
          "output_type": "execute_result"
        }
      ],
      "source": [
        "1 - poisson.cdf(k=3, mu=2)"
      ]
    },
    {
      "cell_type": "markdown",
      "metadata": {
        "id": "Lw8SB6F8cPGo"
      },
      "source": [
        "### Distribución Exponencial\n",
        "\n",
        "* La distribución exponencial es una distribución de probabilidad **continua** (su dominio son los números reales positivos con el 0) que describe la ocurrencia de tiempos entre eventos en un proceso de Poisson, es decir, un proceso en el que los eventos ocurren continuamente e independientemente a una tasa promedio.\n",
        "* Cuenta con un parámetro $\\lambda$ que representa la tasa promedio de ocurrencia de los eventos.\n",
        "* Notar que a diferencia de las distribuciones anteriores, la distribución exponencial es una distribución continua, por lo que la probabilidad puntual de que ocurra un evento es cero. En este caso, se utiliza la noción de densidad de probabilidad.\n",
        "* En el ejemplo de los accidentes, la distribución exponencial describe el tiempo entre accidentes, pero no el número de accidentes en un período de tiempo."
      ]
    },
    {
      "cell_type": "code",
      "execution_count": null,
      "metadata": {
        "colab": {
          "referenced_widgets": [
            "ba369a6c076c4eeaa6dc2d49b49482cf",
            "9e66724a322249aaa9c80d6640d95044",
            "eaf874de2a7b4cb79c1f6bb4381484bb",
            "ccee7dbc3d40413b835e91a82853fcd6",
            "ee22cbedb0e34105861f8b301e2e5bda",
            "6115f44c8dc24b4cb6433e7ce38b072d",
            "ee6a1f883d1e4e4db6117e2db35fcb91"
          ],
          "base_uri": "https://localhost:8080/",
          "height": 504
        },
        "id": "-OTithoAcPGo",
        "outputId": "c5c8af3a-4264-4bbf-e754-d1fe99f0ae7d"
      },
      "outputs": [
        {
          "output_type": "display_data",
          "data": {
            "text/plain": [
              "interactive(children=(FloatSlider(value=1.0, description='Tasa Promedio:', max=5.0, min=0.1), Output()), _dom_…"
            ],
            "application/vnd.jupyter.widget-view+json": {
              "version_major": 2,
              "version_minor": 0,
              "model_id": "ba369a6c076c4eeaa6dc2d49b49482cf"
            }
          },
          "metadata": {}
        }
      ],
      "source": [
        "from scipy.stats import expon\n",
        "\n",
        "# Función para graficar la distribución exponencial\n",
        "def plot_exponential_distribution(rate):\n",
        "    x = np.linspace(0, 10, 1000)\n",
        "    y = expon.pdf(x, scale=1/rate)\n",
        "\n",
        "    plt.plot(x, y)\n",
        "    plt.title(f'Distribución Exponencial (Tasa Promedio = {rate:0.2})')\n",
        "    plt.xlabel('Valor')\n",
        "    plt.ylabel('Densidad de Probabilidad')\n",
        "    plt.show()\n",
        "\n",
        "# Crear control interactivo\n",
        "rate_slider = widgets.FloatSlider(value=1, min=0.1, max=5, step=0.1, description='Tasa Promedio:')\n",
        "\n",
        "# Crear widget interactivo\n",
        "interactive_plot = widgets.interactive(plot_exponential_distribution, rate=rate_slider)\n",
        "\n",
        "# Mostrar widget interactivo\n",
        "display(interactive_plot)"
      ]
    },
    {
      "cell_type": "markdown",
      "metadata": {
        "id": "wHrdkv3pcPGo"
      },
      "source": [
        "* Se utiliza la función `expon.cdf(x, scale=1/mu)` del módulo `stats` de `scipy` para calcular la probabilidad de que ocurra un evento en un período de tiempo, con una frecuencia de ocurrencia media $\\mu$.\n",
        "* Veamos un ejemplo de uso de la distribución exponencial, siguiendo con el ejemplo de los accidentes, si en promedio se producen 3 accidentes de tránsito por día, ¿cuál es la probabilidad de que ocurra un accidente de tránsito en las próximas 2 horas? En este caso, $\\mu = 3$ y $x = 2/24$."
      ]
    },
    {
      "cell_type": "code",
      "execution_count": null,
      "metadata": {
        "id": "LqFwEr_HcPGo",
        "outputId": "e4ff880d-08d7-49b5-bf04-56536307a47b",
        "colab": {
          "base_uri": "https://localhost:8080/"
        }
      },
      "outputs": [
        {
          "output_type": "execute_result",
          "data": {
            "text/plain": [
              "0.22119921692859515"
            ]
          },
          "metadata": {},
          "execution_count": 7
        }
      ],
      "source": [
        "expon.cdf(x=2/24, scale=1/3)"
      ]
    },
    {
      "cell_type": "markdown",
      "metadata": {
        "id": "-zWgt0QicPGo"
      },
      "source": [
        "Podemos calcular el valor de densidad de probabilidad para un valor de $x$ utilizando la función `expon.pdf(x, scale=1/mu)`. Sin embargo, recordar que este valor no representa la probabilidad puntual de que ocurra un evento, ya que la distribución exponencial es una distribución continua."
      ]
    },
    {
      "cell_type": "markdown",
      "metadata": {
        "id": "wU2obmJOcPGo"
      },
      "source": [
        "### Distribución Chi-cuadrado\n",
        "\n",
        "* La distribución Chi-cuadrado $\\chi^2$ es una distribución de probabilidad **continua** (su dominio son los números reales positivos) que se utiliza en estadística para diferentes propósitos, como por ejemplo, para contrastar la independencia entre variables, o para contrastar la bondad de ajuste de un modelo.\n",
        "* Cuenta con un parámetro $\\nu$ que representa los grados de libertad de la distribución.\n",
        "* Existe una conexión interesante con la distribución normal: si $X_1, X_2, \\ldots, X_n$ son variables aleatorias independientes e idénticamente distribuidas con distribución normal estándar, entonces la variable aleatoria $\\chi^2$ con $n$ grados de libertad definida por:\n",
        "\n",
        "$$\\chi^2_n = X_1^2 + X_2^2 + \\ldots + X_n^2$$"
      ]
    },
    {
      "cell_type": "code",
      "execution_count": null,
      "metadata": {
        "colab": {
          "referenced_widgets": [
            "8c8985b6afe74644899aef476631e0f8",
            "72a743c216d44020a147e07dbcd9bb4e",
            "bdbf7da0f28c41e18e8a5ac28330cce6",
            "3acc63489b044094a7b3fc4679e60354",
            "8eb228dc935a4080b244e2672e660821",
            "285696a740ee42f08e7c0400f7b82977",
            "230ad468c2854e338bd42109a5c12283"
          ],
          "base_uri": "https://localhost:8080/",
          "height": 504
        },
        "id": "sIpJwrEvcPGp",
        "outputId": "7c9be636-67df-44e9-df80-5c96625226a5"
      },
      "outputs": [
        {
          "output_type": "display_data",
          "data": {
            "text/plain": [
              "interactive(children=(FloatSlider(value=2.0, description='Grados de Libertad:', max=20.0, min=1.0), Output()),…"
            ],
            "application/vnd.jupyter.widget-view+json": {
              "version_major": 2,
              "version_minor": 0,
              "model_id": "8c8985b6afe74644899aef476631e0f8"
            }
          },
          "metadata": {}
        }
      ],
      "source": [
        "from scipy.stats import chi2\n",
        "import ipywidgets as widgets\n",
        "from IPython.display import display\n",
        "\n",
        "# Función para graficar la distribución Chi-cuadrado\n",
        "def plot_chi_square_distribution(df):\n",
        "    x = np.linspace(0, 20, 1000)\n",
        "    y = chi2.pdf(x, df)\n",
        "\n",
        "    plt.plot(x, y)\n",
        "    plt.title(f'Distribución Chi-cuadrado (df={df:0.2f})')\n",
        "    plt.xlabel('Valor')\n",
        "    plt.ylabel('Densidad de Probabilidad')\n",
        "    plt.show()\n",
        "\n",
        "# Crear control interactivo\n",
        "df_slider = widgets.FloatSlider(value=2, min=1, max=20, step=0.1, description='Grados de Libertad:')\n",
        "\n",
        "# Crear widget interactivo\n",
        "interactive_plot = widgets.interactive(plot_chi_square_distribution, df=df_slider)\n",
        "\n",
        "# Mostrar widget interactivo\n",
        "display(interactive_plot)"
      ]
    },
    {
      "cell_type": "markdown",
      "metadata": {
        "id": "0OTYUWX6cPGp"
      },
      "source": [
        "### Test Chi-cuadrado de Independencia\n",
        "\n",
        "$$\n",
        "X^2 = \\sum_{i=1}^k \\frac{(O_i - E_i)^2}{E_i}\n",
        "$$\n",
        "\n",
        "* El test de Chi-cuadrado es un test de hipótesis que se utiliza para contrastar la independencia entre variables categóricas, o para contrastar la bondad de ajuste de un modelo.\n",
        "* El test de Chi-cuadrado se basa en la distribución Chi-cuadrado, y cuenta con un parámetro $\\nu$ que representa los grados de libertad de la distribución.\n",
        "* Para un ejemplo de uso, carguemos la base de datos que utilizamos la clase anterior."
      ]
    },
    {
      "cell_type": "code",
      "execution_count": null,
      "metadata": {
        "id": "GtATTtQwcPGp",
        "outputId": "be52cd78-303b-42b4-cf0b-a3ebe3719f96",
        "colab": {
          "base_uri": "https://localhost:8080/"
        }
      },
      "outputs": [
        {
          "output_type": "stream",
          "name": "stdout",
          "text": [
            "--2023-10-18 23:39:23--  https://raw.githubusercontent.com/estebanrucan/bases-de-datos/main/StudentsPerformance.csv\n",
            "Resolving raw.githubusercontent.com (raw.githubusercontent.com)... 185.199.111.133, 185.199.110.133, 185.199.108.133, ...\n",
            "Connecting to raw.githubusercontent.com (raw.githubusercontent.com)|185.199.111.133|:443... connected.\n",
            "HTTP request sent, awaiting response... 200 OK\n",
            "Length: 72036 (70K) [text/plain]\n",
            "Saving to: ‘StudentsPerformance.csv’\n",
            "\n",
            "\rStudentsPerformance   0%[                    ]       0  --.-KB/s               \rStudentsPerformance 100%[===================>]  70.35K  --.-KB/s    in 0.03s   \n",
            "\n",
            "2023-10-18 23:39:24 (2.69 MB/s) - ‘StudentsPerformance.csv’ saved [72036/72036]\n",
            "\n"
          ]
        }
      ],
      "source": [
        "!mkdir data\n",
        "!wget https://raw.githubusercontent.com/estebanrucan/bases-de-datos/main/StudentsPerformance.csv\n",
        "!mv StudentsPerformance.csv data/"
      ]
    },
    {
      "cell_type": "code",
      "execution_count": null,
      "metadata": {
        "id": "Z1XbR-IScPGp",
        "outputId": "3d179824-a598-4ca2-a9c9-5bdffd38f82e",
        "colab": {
          "base_uri": "https://localhost:8080/",
          "height": 206
        }
      },
      "outputs": [
        {
          "output_type": "execute_result",
          "data": {
            "text/plain": [
              "     gender race/ethnicity parental level of education         lunch  \\\n",
              "847    male        group D                 high school      standard   \n",
              "874  female        group C           bachelor's degree  free/reduced   \n",
              "471  female        group C                 high school      standard   \n",
              "476    male        group E           bachelor's degree      standard   \n",
              "764    male        group D                some college      standard   \n",
              "\n",
              "    test preparation course  math score  reading score  writing score  \n",
              "847                    none          64             54             50  \n",
              "874                    none          43             62             61  \n",
              "471                    none          63             69             74  \n",
              "476               completed          76             62             66  \n",
              "764                    none          60             63             59  "
            ],
            "text/html": [
              "\n",
              "  <div id=\"df-5ba35394-e9b7-4370-9602-07f5215530ab\" class=\"colab-df-container\">\n",
              "    <div>\n",
              "<style scoped>\n",
              "    .dataframe tbody tr th:only-of-type {\n",
              "        vertical-align: middle;\n",
              "    }\n",
              "\n",
              "    .dataframe tbody tr th {\n",
              "        vertical-align: top;\n",
              "    }\n",
              "\n",
              "    .dataframe thead th {\n",
              "        text-align: right;\n",
              "    }\n",
              "</style>\n",
              "<table border=\"1\" class=\"dataframe\">\n",
              "  <thead>\n",
              "    <tr style=\"text-align: right;\">\n",
              "      <th></th>\n",
              "      <th>gender</th>\n",
              "      <th>race/ethnicity</th>\n",
              "      <th>parental level of education</th>\n",
              "      <th>lunch</th>\n",
              "      <th>test preparation course</th>\n",
              "      <th>math score</th>\n",
              "      <th>reading score</th>\n",
              "      <th>writing score</th>\n",
              "    </tr>\n",
              "  </thead>\n",
              "  <tbody>\n",
              "    <tr>\n",
              "      <th>847</th>\n",
              "      <td>male</td>\n",
              "      <td>group D</td>\n",
              "      <td>high school</td>\n",
              "      <td>standard</td>\n",
              "      <td>none</td>\n",
              "      <td>64</td>\n",
              "      <td>54</td>\n",
              "      <td>50</td>\n",
              "    </tr>\n",
              "    <tr>\n",
              "      <th>874</th>\n",
              "      <td>female</td>\n",
              "      <td>group C</td>\n",
              "      <td>bachelor's degree</td>\n",
              "      <td>free/reduced</td>\n",
              "      <td>none</td>\n",
              "      <td>43</td>\n",
              "      <td>62</td>\n",
              "      <td>61</td>\n",
              "    </tr>\n",
              "    <tr>\n",
              "      <th>471</th>\n",
              "      <td>female</td>\n",
              "      <td>group C</td>\n",
              "      <td>high school</td>\n",
              "      <td>standard</td>\n",
              "      <td>none</td>\n",
              "      <td>63</td>\n",
              "      <td>69</td>\n",
              "      <td>74</td>\n",
              "    </tr>\n",
              "    <tr>\n",
              "      <th>476</th>\n",
              "      <td>male</td>\n",
              "      <td>group E</td>\n",
              "      <td>bachelor's degree</td>\n",
              "      <td>standard</td>\n",
              "      <td>completed</td>\n",
              "      <td>76</td>\n",
              "      <td>62</td>\n",
              "      <td>66</td>\n",
              "    </tr>\n",
              "    <tr>\n",
              "      <th>764</th>\n",
              "      <td>male</td>\n",
              "      <td>group D</td>\n",
              "      <td>some college</td>\n",
              "      <td>standard</td>\n",
              "      <td>none</td>\n",
              "      <td>60</td>\n",
              "      <td>63</td>\n",
              "      <td>59</td>\n",
              "    </tr>\n",
              "  </tbody>\n",
              "</table>\n",
              "</div>\n",
              "    <div class=\"colab-df-buttons\">\n",
              "\n",
              "  <div class=\"colab-df-container\">\n",
              "    <button class=\"colab-df-convert\" onclick=\"convertToInteractive('df-5ba35394-e9b7-4370-9602-07f5215530ab')\"\n",
              "            title=\"Convert this dataframe to an interactive table.\"\n",
              "            style=\"display:none;\">\n",
              "\n",
              "  <svg xmlns=\"http://www.w3.org/2000/svg\" height=\"24px\" viewBox=\"0 -960 960 960\">\n",
              "    <path d=\"M120-120v-720h720v720H120Zm60-500h600v-160H180v160Zm220 220h160v-160H400v160Zm0 220h160v-160H400v160ZM180-400h160v-160H180v160Zm440 0h160v-160H620v160ZM180-180h160v-160H180v160Zm440 0h160v-160H620v160Z\"/>\n",
              "  </svg>\n",
              "    </button>\n",
              "\n",
              "  <style>\n",
              "    .colab-df-container {\n",
              "      display:flex;\n",
              "      gap: 12px;\n",
              "    }\n",
              "\n",
              "    .colab-df-convert {\n",
              "      background-color: #E8F0FE;\n",
              "      border: none;\n",
              "      border-radius: 50%;\n",
              "      cursor: pointer;\n",
              "      display: none;\n",
              "      fill: #1967D2;\n",
              "      height: 32px;\n",
              "      padding: 0 0 0 0;\n",
              "      width: 32px;\n",
              "    }\n",
              "\n",
              "    .colab-df-convert:hover {\n",
              "      background-color: #E2EBFA;\n",
              "      box-shadow: 0px 1px 2px rgba(60, 64, 67, 0.3), 0px 1px 3px 1px rgba(60, 64, 67, 0.15);\n",
              "      fill: #174EA6;\n",
              "    }\n",
              "\n",
              "    .colab-df-buttons div {\n",
              "      margin-bottom: 4px;\n",
              "    }\n",
              "\n",
              "    [theme=dark] .colab-df-convert {\n",
              "      background-color: #3B4455;\n",
              "      fill: #D2E3FC;\n",
              "    }\n",
              "\n",
              "    [theme=dark] .colab-df-convert:hover {\n",
              "      background-color: #434B5C;\n",
              "      box-shadow: 0px 1px 3px 1px rgba(0, 0, 0, 0.15);\n",
              "      filter: drop-shadow(0px 1px 2px rgba(0, 0, 0, 0.3));\n",
              "      fill: #FFFFFF;\n",
              "    }\n",
              "  </style>\n",
              "\n",
              "    <script>\n",
              "      const buttonEl =\n",
              "        document.querySelector('#df-5ba35394-e9b7-4370-9602-07f5215530ab button.colab-df-convert');\n",
              "      buttonEl.style.display =\n",
              "        google.colab.kernel.accessAllowed ? 'block' : 'none';\n",
              "\n",
              "      async function convertToInteractive(key) {\n",
              "        const element = document.querySelector('#df-5ba35394-e9b7-4370-9602-07f5215530ab');\n",
              "        const dataTable =\n",
              "          await google.colab.kernel.invokeFunction('convertToInteractive',\n",
              "                                                    [key], {});\n",
              "        if (!dataTable) return;\n",
              "\n",
              "        const docLinkHtml = 'Like what you see? Visit the ' +\n",
              "          '<a target=\"_blank\" href=https://colab.research.google.com/notebooks/data_table.ipynb>data table notebook</a>'\n",
              "          + ' to learn more about interactive tables.';\n",
              "        element.innerHTML = '';\n",
              "        dataTable['output_type'] = 'display_data';\n",
              "        await google.colab.output.renderOutput(dataTable, element);\n",
              "        const docLink = document.createElement('div');\n",
              "        docLink.innerHTML = docLinkHtml;\n",
              "        element.appendChild(docLink);\n",
              "      }\n",
              "    </script>\n",
              "  </div>\n",
              "\n",
              "\n",
              "<div id=\"df-0bd0fdae-3d05-48b3-9ee7-313d0b6d279c\">\n",
              "  <button class=\"colab-df-quickchart\" onclick=\"quickchart('df-0bd0fdae-3d05-48b3-9ee7-313d0b6d279c')\"\n",
              "            title=\"Suggest charts.\"\n",
              "            style=\"display:none;\">\n",
              "\n",
              "<svg xmlns=\"http://www.w3.org/2000/svg\" height=\"24px\"viewBox=\"0 0 24 24\"\n",
              "     width=\"24px\">\n",
              "    <g>\n",
              "        <path d=\"M19 3H5c-1.1 0-2 .9-2 2v14c0 1.1.9 2 2 2h14c1.1 0 2-.9 2-2V5c0-1.1-.9-2-2-2zM9 17H7v-7h2v7zm4 0h-2V7h2v10zm4 0h-2v-4h2v4z\"/>\n",
              "    </g>\n",
              "</svg>\n",
              "  </button>\n",
              "\n",
              "<style>\n",
              "  .colab-df-quickchart {\n",
              "      --bg-color: #E8F0FE;\n",
              "      --fill-color: #1967D2;\n",
              "      --hover-bg-color: #E2EBFA;\n",
              "      --hover-fill-color: #174EA6;\n",
              "      --disabled-fill-color: #AAA;\n",
              "      --disabled-bg-color: #DDD;\n",
              "  }\n",
              "\n",
              "  [theme=dark] .colab-df-quickchart {\n",
              "      --bg-color: #3B4455;\n",
              "      --fill-color: #D2E3FC;\n",
              "      --hover-bg-color: #434B5C;\n",
              "      --hover-fill-color: #FFFFFF;\n",
              "      --disabled-bg-color: #3B4455;\n",
              "      --disabled-fill-color: #666;\n",
              "  }\n",
              "\n",
              "  .colab-df-quickchart {\n",
              "    background-color: var(--bg-color);\n",
              "    border: none;\n",
              "    border-radius: 50%;\n",
              "    cursor: pointer;\n",
              "    display: none;\n",
              "    fill: var(--fill-color);\n",
              "    height: 32px;\n",
              "    padding: 0;\n",
              "    width: 32px;\n",
              "  }\n",
              "\n",
              "  .colab-df-quickchart:hover {\n",
              "    background-color: var(--hover-bg-color);\n",
              "    box-shadow: 0 1px 2px rgba(60, 64, 67, 0.3), 0 1px 3px 1px rgba(60, 64, 67, 0.15);\n",
              "    fill: var(--button-hover-fill-color);\n",
              "  }\n",
              "\n",
              "  .colab-df-quickchart-complete:disabled,\n",
              "  .colab-df-quickchart-complete:disabled:hover {\n",
              "    background-color: var(--disabled-bg-color);\n",
              "    fill: var(--disabled-fill-color);\n",
              "    box-shadow: none;\n",
              "  }\n",
              "\n",
              "  .colab-df-spinner {\n",
              "    border: 2px solid var(--fill-color);\n",
              "    border-color: transparent;\n",
              "    border-bottom-color: var(--fill-color);\n",
              "    animation:\n",
              "      spin 1s steps(1) infinite;\n",
              "  }\n",
              "\n",
              "  @keyframes spin {\n",
              "    0% {\n",
              "      border-color: transparent;\n",
              "      border-bottom-color: var(--fill-color);\n",
              "      border-left-color: var(--fill-color);\n",
              "    }\n",
              "    20% {\n",
              "      border-color: transparent;\n",
              "      border-left-color: var(--fill-color);\n",
              "      border-top-color: var(--fill-color);\n",
              "    }\n",
              "    30% {\n",
              "      border-color: transparent;\n",
              "      border-left-color: var(--fill-color);\n",
              "      border-top-color: var(--fill-color);\n",
              "      border-right-color: var(--fill-color);\n",
              "    }\n",
              "    40% {\n",
              "      border-color: transparent;\n",
              "      border-right-color: var(--fill-color);\n",
              "      border-top-color: var(--fill-color);\n",
              "    }\n",
              "    60% {\n",
              "      border-color: transparent;\n",
              "      border-right-color: var(--fill-color);\n",
              "    }\n",
              "    80% {\n",
              "      border-color: transparent;\n",
              "      border-right-color: var(--fill-color);\n",
              "      border-bottom-color: var(--fill-color);\n",
              "    }\n",
              "    90% {\n",
              "      border-color: transparent;\n",
              "      border-bottom-color: var(--fill-color);\n",
              "    }\n",
              "  }\n",
              "</style>\n",
              "\n",
              "  <script>\n",
              "    async function quickchart(key) {\n",
              "      const quickchartButtonEl =\n",
              "        document.querySelector('#' + key + ' button');\n",
              "      quickchartButtonEl.disabled = true;  // To prevent multiple clicks.\n",
              "      quickchartButtonEl.classList.add('colab-df-spinner');\n",
              "      try {\n",
              "        const charts = await google.colab.kernel.invokeFunction(\n",
              "            'suggestCharts', [key], {});\n",
              "      } catch (error) {\n",
              "        console.error('Error during call to suggestCharts:', error);\n",
              "      }\n",
              "      quickchartButtonEl.classList.remove('colab-df-spinner');\n",
              "      quickchartButtonEl.classList.add('colab-df-quickchart-complete');\n",
              "    }\n",
              "    (() => {\n",
              "      let quickchartButtonEl =\n",
              "        document.querySelector('#df-0bd0fdae-3d05-48b3-9ee7-313d0b6d279c button');\n",
              "      quickchartButtonEl.style.display =\n",
              "        google.colab.kernel.accessAllowed ? 'block' : 'none';\n",
              "    })();\n",
              "  </script>\n",
              "</div>\n",
              "    </div>\n",
              "  </div>\n"
            ]
          },
          "metadata": {},
          "execution_count": 11
        }
      ],
      "source": [
        "import pandas as pd\n",
        "\n",
        "data = pd.read_csv(\"./data/StudentsPerformance.csv\")\n",
        "data_muestra = data.sample(n=100, random_state=2023)\n",
        "data_muestra.head()"
      ]
    },
    {
      "cell_type": "markdown",
      "metadata": {
        "id": "rKbwhfNQcPGp"
      },
      "source": [
        "Supongamos que nos interesa estudiar si existe un efecto en la cantidad de becados según el género. Tomemos una muestra aleatoria de 100 estudiantes y realicemos una tabla de contingencia entre ambas variables."
      ]
    },
    {
      "cell_type": "code",
      "execution_count": null,
      "metadata": {
        "id": "Ad1SNLNbcPGp",
        "outputId": "36fbd4e7-0e81-435e-bc45-573a2e9cecc4",
        "colab": {
          "base_uri": "https://localhost:8080/",
          "height": 143
        }
      },
      "outputs": [
        {
          "output_type": "execute_result",
          "data": {
            "text/plain": [
              "lunch   free/reduced  standard\n",
              "gender                        \n",
              "female            16        28\n",
              "male              15        41"
            ],
            "text/html": [
              "\n",
              "  <div id=\"df-fb1db827-855f-4c09-b4d7-eb665ee788c8\" class=\"colab-df-container\">\n",
              "    <div>\n",
              "<style scoped>\n",
              "    .dataframe tbody tr th:only-of-type {\n",
              "        vertical-align: middle;\n",
              "    }\n",
              "\n",
              "    .dataframe tbody tr th {\n",
              "        vertical-align: top;\n",
              "    }\n",
              "\n",
              "    .dataframe thead th {\n",
              "        text-align: right;\n",
              "    }\n",
              "</style>\n",
              "<table border=\"1\" class=\"dataframe\">\n",
              "  <thead>\n",
              "    <tr style=\"text-align: right;\">\n",
              "      <th>lunch</th>\n",
              "      <th>free/reduced</th>\n",
              "      <th>standard</th>\n",
              "    </tr>\n",
              "    <tr>\n",
              "      <th>gender</th>\n",
              "      <th></th>\n",
              "      <th></th>\n",
              "    </tr>\n",
              "  </thead>\n",
              "  <tbody>\n",
              "    <tr>\n",
              "      <th>female</th>\n",
              "      <td>16</td>\n",
              "      <td>28</td>\n",
              "    </tr>\n",
              "    <tr>\n",
              "      <th>male</th>\n",
              "      <td>15</td>\n",
              "      <td>41</td>\n",
              "    </tr>\n",
              "  </tbody>\n",
              "</table>\n",
              "</div>\n",
              "    <div class=\"colab-df-buttons\">\n",
              "\n",
              "  <div class=\"colab-df-container\">\n",
              "    <button class=\"colab-df-convert\" onclick=\"convertToInteractive('df-fb1db827-855f-4c09-b4d7-eb665ee788c8')\"\n",
              "            title=\"Convert this dataframe to an interactive table.\"\n",
              "            style=\"display:none;\">\n",
              "\n",
              "  <svg xmlns=\"http://www.w3.org/2000/svg\" height=\"24px\" viewBox=\"0 -960 960 960\">\n",
              "    <path d=\"M120-120v-720h720v720H120Zm60-500h600v-160H180v160Zm220 220h160v-160H400v160Zm0 220h160v-160H400v160ZM180-400h160v-160H180v160Zm440 0h160v-160H620v160ZM180-180h160v-160H180v160Zm440 0h160v-160H620v160Z\"/>\n",
              "  </svg>\n",
              "    </button>\n",
              "\n",
              "  <style>\n",
              "    .colab-df-container {\n",
              "      display:flex;\n",
              "      gap: 12px;\n",
              "    }\n",
              "\n",
              "    .colab-df-convert {\n",
              "      background-color: #E8F0FE;\n",
              "      border: none;\n",
              "      border-radius: 50%;\n",
              "      cursor: pointer;\n",
              "      display: none;\n",
              "      fill: #1967D2;\n",
              "      height: 32px;\n",
              "      padding: 0 0 0 0;\n",
              "      width: 32px;\n",
              "    }\n",
              "\n",
              "    .colab-df-convert:hover {\n",
              "      background-color: #E2EBFA;\n",
              "      box-shadow: 0px 1px 2px rgba(60, 64, 67, 0.3), 0px 1px 3px 1px rgba(60, 64, 67, 0.15);\n",
              "      fill: #174EA6;\n",
              "    }\n",
              "\n",
              "    .colab-df-buttons div {\n",
              "      margin-bottom: 4px;\n",
              "    }\n",
              "\n",
              "    [theme=dark] .colab-df-convert {\n",
              "      background-color: #3B4455;\n",
              "      fill: #D2E3FC;\n",
              "    }\n",
              "\n",
              "    [theme=dark] .colab-df-convert:hover {\n",
              "      background-color: #434B5C;\n",
              "      box-shadow: 0px 1px 3px 1px rgba(0, 0, 0, 0.15);\n",
              "      filter: drop-shadow(0px 1px 2px rgba(0, 0, 0, 0.3));\n",
              "      fill: #FFFFFF;\n",
              "    }\n",
              "  </style>\n",
              "\n",
              "    <script>\n",
              "      const buttonEl =\n",
              "        document.querySelector('#df-fb1db827-855f-4c09-b4d7-eb665ee788c8 button.colab-df-convert');\n",
              "      buttonEl.style.display =\n",
              "        google.colab.kernel.accessAllowed ? 'block' : 'none';\n",
              "\n",
              "      async function convertToInteractive(key) {\n",
              "        const element = document.querySelector('#df-fb1db827-855f-4c09-b4d7-eb665ee788c8');\n",
              "        const dataTable =\n",
              "          await google.colab.kernel.invokeFunction('convertToInteractive',\n",
              "                                                    [key], {});\n",
              "        if (!dataTable) return;\n",
              "\n",
              "        const docLinkHtml = 'Like what you see? Visit the ' +\n",
              "          '<a target=\"_blank\" href=https://colab.research.google.com/notebooks/data_table.ipynb>data table notebook</a>'\n",
              "          + ' to learn more about interactive tables.';\n",
              "        element.innerHTML = '';\n",
              "        dataTable['output_type'] = 'display_data';\n",
              "        await google.colab.output.renderOutput(dataTable, element);\n",
              "        const docLink = document.createElement('div');\n",
              "        docLink.innerHTML = docLinkHtml;\n",
              "        element.appendChild(docLink);\n",
              "      }\n",
              "    </script>\n",
              "  </div>\n",
              "\n",
              "\n",
              "<div id=\"df-1d8aa469-ff73-4770-b09f-9078d30f5655\">\n",
              "  <button class=\"colab-df-quickchart\" onclick=\"quickchart('df-1d8aa469-ff73-4770-b09f-9078d30f5655')\"\n",
              "            title=\"Suggest charts.\"\n",
              "            style=\"display:none;\">\n",
              "\n",
              "<svg xmlns=\"http://www.w3.org/2000/svg\" height=\"24px\"viewBox=\"0 0 24 24\"\n",
              "     width=\"24px\">\n",
              "    <g>\n",
              "        <path d=\"M19 3H5c-1.1 0-2 .9-2 2v14c0 1.1.9 2 2 2h14c1.1 0 2-.9 2-2V5c0-1.1-.9-2-2-2zM9 17H7v-7h2v7zm4 0h-2V7h2v10zm4 0h-2v-4h2v4z\"/>\n",
              "    </g>\n",
              "</svg>\n",
              "  </button>\n",
              "\n",
              "<style>\n",
              "  .colab-df-quickchart {\n",
              "      --bg-color: #E8F0FE;\n",
              "      --fill-color: #1967D2;\n",
              "      --hover-bg-color: #E2EBFA;\n",
              "      --hover-fill-color: #174EA6;\n",
              "      --disabled-fill-color: #AAA;\n",
              "      --disabled-bg-color: #DDD;\n",
              "  }\n",
              "\n",
              "  [theme=dark] .colab-df-quickchart {\n",
              "      --bg-color: #3B4455;\n",
              "      --fill-color: #D2E3FC;\n",
              "      --hover-bg-color: #434B5C;\n",
              "      --hover-fill-color: #FFFFFF;\n",
              "      --disabled-bg-color: #3B4455;\n",
              "      --disabled-fill-color: #666;\n",
              "  }\n",
              "\n",
              "  .colab-df-quickchart {\n",
              "    background-color: var(--bg-color);\n",
              "    border: none;\n",
              "    border-radius: 50%;\n",
              "    cursor: pointer;\n",
              "    display: none;\n",
              "    fill: var(--fill-color);\n",
              "    height: 32px;\n",
              "    padding: 0;\n",
              "    width: 32px;\n",
              "  }\n",
              "\n",
              "  .colab-df-quickchart:hover {\n",
              "    background-color: var(--hover-bg-color);\n",
              "    box-shadow: 0 1px 2px rgba(60, 64, 67, 0.3), 0 1px 3px 1px rgba(60, 64, 67, 0.15);\n",
              "    fill: var(--button-hover-fill-color);\n",
              "  }\n",
              "\n",
              "  .colab-df-quickchart-complete:disabled,\n",
              "  .colab-df-quickchart-complete:disabled:hover {\n",
              "    background-color: var(--disabled-bg-color);\n",
              "    fill: var(--disabled-fill-color);\n",
              "    box-shadow: none;\n",
              "  }\n",
              "\n",
              "  .colab-df-spinner {\n",
              "    border: 2px solid var(--fill-color);\n",
              "    border-color: transparent;\n",
              "    border-bottom-color: var(--fill-color);\n",
              "    animation:\n",
              "      spin 1s steps(1) infinite;\n",
              "  }\n",
              "\n",
              "  @keyframes spin {\n",
              "    0% {\n",
              "      border-color: transparent;\n",
              "      border-bottom-color: var(--fill-color);\n",
              "      border-left-color: var(--fill-color);\n",
              "    }\n",
              "    20% {\n",
              "      border-color: transparent;\n",
              "      border-left-color: var(--fill-color);\n",
              "      border-top-color: var(--fill-color);\n",
              "    }\n",
              "    30% {\n",
              "      border-color: transparent;\n",
              "      border-left-color: var(--fill-color);\n",
              "      border-top-color: var(--fill-color);\n",
              "      border-right-color: var(--fill-color);\n",
              "    }\n",
              "    40% {\n",
              "      border-color: transparent;\n",
              "      border-right-color: var(--fill-color);\n",
              "      border-top-color: var(--fill-color);\n",
              "    }\n",
              "    60% {\n",
              "      border-color: transparent;\n",
              "      border-right-color: var(--fill-color);\n",
              "    }\n",
              "    80% {\n",
              "      border-color: transparent;\n",
              "      border-right-color: var(--fill-color);\n",
              "      border-bottom-color: var(--fill-color);\n",
              "    }\n",
              "    90% {\n",
              "      border-color: transparent;\n",
              "      border-bottom-color: var(--fill-color);\n",
              "    }\n",
              "  }\n",
              "</style>\n",
              "\n",
              "  <script>\n",
              "    async function quickchart(key) {\n",
              "      const quickchartButtonEl =\n",
              "        document.querySelector('#' + key + ' button');\n",
              "      quickchartButtonEl.disabled = true;  // To prevent multiple clicks.\n",
              "      quickchartButtonEl.classList.add('colab-df-spinner');\n",
              "      try {\n",
              "        const charts = await google.colab.kernel.invokeFunction(\n",
              "            'suggestCharts', [key], {});\n",
              "      } catch (error) {\n",
              "        console.error('Error during call to suggestCharts:', error);\n",
              "      }\n",
              "      quickchartButtonEl.classList.remove('colab-df-spinner');\n",
              "      quickchartButtonEl.classList.add('colab-df-quickchart-complete');\n",
              "    }\n",
              "    (() => {\n",
              "      let quickchartButtonEl =\n",
              "        document.querySelector('#df-1d8aa469-ff73-4770-b09f-9078d30f5655 button');\n",
              "      quickchartButtonEl.style.display =\n",
              "        google.colab.kernel.accessAllowed ? 'block' : 'none';\n",
              "    })();\n",
              "  </script>\n",
              "</div>\n",
              "    </div>\n",
              "  </div>\n"
            ]
          },
          "metadata": {},
          "execution_count": 13
        }
      ],
      "source": [
        "pd.crosstab(data_muestra[\"gender\"], data_muestra[\"lunch\"])"
      ]
    },
    {
      "cell_type": "markdown",
      "metadata": {
        "id": "KgqPR7sBcPGp"
      },
      "source": [
        "* Para ello, se puede utilizar el test de Chi-cuadrado, que tiene las siguientes hipótesis:\n",
        "$$\n",
        "H_0: \\text{No existe una relación entre las variables de estudio}\\\\\n",
        "H_1: \\text{Si existe una relación entre las variables de estudio}\n",
        "$$\n",
        "* Para realizar el test de Chi-cuadrado, podemos utilizar la función `chisq_test()` del módulo `testing` de ESTYP.\n",
        "\n"
      ]
    },
    {
      "cell_type": "code",
      "source": [
        "#%pip install estyp"
      ],
      "metadata": {
        "colab": {
          "base_uri": "https://localhost:8080/"
        },
        "id": "o0r2CGDXLuWA",
        "outputId": "b1450e45-4aa3-43a2-a826-f2f4c3067c23"
      },
      "execution_count": null,
      "outputs": [
        {
          "output_type": "stream",
          "name": "stdout",
          "text": [
            "Collecting estyp\n",
            "  Downloading estyp-0.9.3-py3-none-any.whl (34 kB)\n",
            "Requirement already satisfied: numpy>=1.22.3 in /usr/local/lib/python3.10/dist-packages (from estyp) (1.23.5)\n",
            "Collecting scikit-learn>=1.3.0 (from estyp)\n",
            "  Downloading scikit_learn-1.3.1-cp310-cp310-manylinux_2_17_x86_64.manylinux2014_x86_64.whl (10.8 MB)\n",
            "\u001b[2K     \u001b[90m━━━━━━━━━━━━━━━━━━━━━━━━━━━━━━━━━━━━━━━━\u001b[0m \u001b[32m10.8/10.8 MB\u001b[0m \u001b[31m64.0 MB/s\u001b[0m eta \u001b[36m0:00:00\u001b[0m\n",
            "\u001b[?25hRequirement already satisfied: matplotlib>=3.4.3 in /usr/local/lib/python3.10/dist-packages (from estyp) (3.7.1)\n",
            "Requirement already satisfied: patsy>=0.5.3 in /usr/local/lib/python3.10/dist-packages (from estyp) (0.5.3)\n",
            "Requirement already satisfied: statsmodels>=0.13.5 in /usr/local/lib/python3.10/dist-packages (from estyp) (0.14.0)\n",
            "Requirement already satisfied: scipy>=1.10.1 in /usr/local/lib/python3.10/dist-packages (from estyp) (1.11.3)\n",
            "Collecting kmodes>=0.12.2 (from estyp)\n",
            "  Downloading kmodes-0.12.2-py2.py3-none-any.whl (20 kB)\n",
            "Requirement already satisfied: tqdm>=4.65.0 in /usr/local/lib/python3.10/dist-packages (from estyp) (4.66.1)\n",
            "Requirement already satisfied: joblib>=1.3.1 in /usr/local/lib/python3.10/dist-packages (from estyp) (1.3.2)\n",
            "Requirement already satisfied: contourpy>=1.0.1 in /usr/local/lib/python3.10/dist-packages (from matplotlib>=3.4.3->estyp) (1.1.1)\n",
            "Requirement already satisfied: cycler>=0.10 in /usr/local/lib/python3.10/dist-packages (from matplotlib>=3.4.3->estyp) (0.12.1)\n",
            "Requirement already satisfied: fonttools>=4.22.0 in /usr/local/lib/python3.10/dist-packages (from matplotlib>=3.4.3->estyp) (4.43.1)\n",
            "Requirement already satisfied: kiwisolver>=1.0.1 in /usr/local/lib/python3.10/dist-packages (from matplotlib>=3.4.3->estyp) (1.4.5)\n",
            "Requirement already satisfied: packaging>=20.0 in /usr/local/lib/python3.10/dist-packages (from matplotlib>=3.4.3->estyp) (23.2)\n",
            "Requirement already satisfied: pillow>=6.2.0 in /usr/local/lib/python3.10/dist-packages (from matplotlib>=3.4.3->estyp) (9.4.0)\n",
            "Requirement already satisfied: pyparsing>=2.3.1 in /usr/local/lib/python3.10/dist-packages (from matplotlib>=3.4.3->estyp) (3.1.1)\n",
            "Requirement already satisfied: python-dateutil>=2.7 in /usr/local/lib/python3.10/dist-packages (from matplotlib>=3.4.3->estyp) (2.8.2)\n",
            "Requirement already satisfied: six in /usr/local/lib/python3.10/dist-packages (from patsy>=0.5.3->estyp) (1.16.0)\n",
            "Requirement already satisfied: threadpoolctl>=2.0.0 in /usr/local/lib/python3.10/dist-packages (from scikit-learn>=1.3.0->estyp) (3.2.0)\n",
            "Requirement already satisfied: pandas>=1.0 in /usr/local/lib/python3.10/dist-packages (from statsmodels>=0.13.5->estyp) (1.5.3)\n",
            "Requirement already satisfied: pytz>=2020.1 in /usr/local/lib/python3.10/dist-packages (from pandas>=1.0->statsmodels>=0.13.5->estyp) (2023.3.post1)\n",
            "Installing collected packages: scikit-learn, kmodes, estyp\n",
            "  Attempting uninstall: scikit-learn\n",
            "    Found existing installation: scikit-learn 1.2.2\n",
            "    Uninstalling scikit-learn-1.2.2:\n",
            "      Successfully uninstalled scikit-learn-1.2.2\n",
            "Successfully installed estyp-0.9.3 kmodes-0.12.2 scikit-learn-1.3.1\n"
          ]
        }
      ]
    },
    {
      "cell_type": "code",
      "execution_count": null,
      "metadata": {
        "id": "aoBERzJWcPGp",
        "outputId": "c0be4c64-1f3a-4de3-c145-6c5c2a00967c",
        "colab": {
          "base_uri": "https://localhost:8080/"
        }
      },
      "outputs": [
        {
          "output_type": "execute_result",
          "data": {
            "text/plain": [
              "\n",
              "    \u001b[1m\u001b[4mPearson's Chi-squared test with Yates' continuity correction\u001b[0m\n",
              "    X-squared = 0.6564 | df = 1 | p-value = 0.4178\n",
              "    alternative hypothesis: true frequencies are not equal to expected frequencies"
            ]
          },
          "metadata": {},
          "execution_count": 15
        }
      ],
      "source": [
        "from estyp.testing import chisq_test\n",
        "\n",
        "chisq_test(x=data_muestra[\"gender\"], y=data_muestra[\"lunch\"])"
      ]
    },
    {
      "cell_type": "markdown",
      "metadata": {
        "id": "2g6AUXtzcPGp"
      },
      "source": [
        "En este caso el valor-p es mayor a 0.05, lo que quiere decir que hay una concordancia entre $H_0$ y los datos, por lo que no se rechaza $H_0$. En otras palabras, hay evidencia estadística hacia que no existiría una relación entre las variables."
      ]
    },
    {
      "cell_type": "markdown",
      "metadata": {
        "id": "a_QvWkoQcPGp"
      },
      "source": [
        "### Test de Proporciones\n",
        "\n",
        "$$\n",
        "Z = \\frac{\\hat{p} - p_0}{\\sqrt{\\frac{p_0(\n",
        "    1-p_0)}{n}}}\n",
        "$$\n",
        "\n",
        "* El test de proporciones es un test de hipótesis que se utiliza para contrastar si la proporción de una población es igual a un valor específico.\n",
        "* El test de proporciones se basa en las propiedades de la distribución binomial, y cuenta con un parámetro $p$ que representa la proporción de la población.\n",
        "* Las hipótesis del test en el caso en que se estudia desigualdad de la proporción es:\n",
        "$$\n",
        "H_0: \\text{La proporción de la población es igual a $p_0$}\\\\\n",
        "H_1: \\text{La proporción de la población es distinta a $p_0$}\n",
        "$$\n",
        "Y es análogo para los casos en que se estudia si la proporción es mayor o menor a un valor específico.\n",
        "\n",
        "* El estadístico de Hipótesis $Z$ sigue una distribución normal estándar (media 0 y varianza 1). Sin embargo, para el cálculo del valor-p, se utiliza una propiedad que conecta la distribución Chi-cuadrado con la distribución normal.\n",
        "* Por ejemplo, estudiemos si la proporción de estudiantes que aprobaron el examen de matemáticas es mayor a 0.5. Para ello, se puede utilizar la función `prop_test()` del módulo `testing` de ESTYP."
      ]
    },
    {
      "cell_type": "code",
      "execution_count": null,
      "metadata": {
        "id": "Z5MFxuDFcPGp",
        "outputId": "f60577ec-95dd-4bc0-f787-6d6101e4e27a",
        "colab": {
          "base_uri": "https://localhost:8080/"
        }
      },
      "outputs": [
        {
          "output_type": "stream",
          "name": "stdout",
          "text": [
            "True     70\n",
            "False    30\n",
            "Name: math score, dtype: int64\n"
          ]
        },
        {
          "output_type": "execute_result",
          "data": {
            "text/plain": [
              "\n",
              "    \u001b[1m\u001b[4m1-sample test for equality of proportions with continuity correction\u001b[0m\n",
              "    X-squared = 15.2100 | df = 1 | p-value = <0.0001\n",
              "    alternative hypothesis: the true proportion is greater than 0.5000\n",
              "    95 percent confidence interval:\n",
              "     0.614961 1.000000\n",
              "    sample estimates:\n",
              "      proportion(s): 0.700000\n",
              "    "
            ]
          },
          "metadata": {},
          "execution_count": 18
        }
      ],
      "source": [
        "from estyp.testing import prop_test\n",
        "\n",
        "aprueba = data_muestra[\"math score\"] >= 60\n",
        "cantidad_aprobados = aprueba.value_counts()\n",
        "print(cantidad_aprobados)\n",
        "\n",
        "# H_0: prop <= 0.5\n",
        "# H_1: prop > 0.5\n",
        "\n",
        "prop_test(cantidad_aprobados, p=0.5, alternative=\"greater\")"
      ]
    },
    {
      "cell_type": "markdown",
      "metadata": {
        "id": "_R4CdTqrcPGp"
      },
      "source": [
        "En este caso, hay una discordancia entre los datos y $H_0$, por lo que se rechaza $H_0$. En otras palabras, hay evidencia estadística hacia que la proporción de estudiantes que aprobaron el examen de matemáticas es mayor a 50%."
      ]
    },
    {
      "cell_type": "markdown",
      "metadata": {
        "id": "RJallyGycPGq"
      },
      "source": [
        "### Distribución F de Fisher\n",
        "\n",
        "* La distribución F de Fisher es una distribución de probabilidad **continua** (su dominio son los reales positivos).\n",
        "* Se utiliza para contrastar la igualdad de varianzas de dos poblaciones normales.\n",
        "* Cuenta con dos parámetros $\\nu_1$ y $\\nu_2$ que representan los grados de libertad de la distribución.\n",
        "* Existe una conexión interesante con la distribución Chi-cuadrado: si $X_1$ y $X_2$ son variables aleatorias independientes con distribución Chi-cuadrado con $\\nu_1$ y $\\nu_2$ grados de libertad, respectivamente, entonces la variable aleatoria $F$ con $\\nu_1$ y $\\nu_2$ grados de libertad definida por:\n",
        "\n",
        "$$\n",
        "F = \\frac{X_1/\\nu_1}{X_2/\\nu_2}\n",
        "$$"
      ]
    },
    {
      "cell_type": "code",
      "execution_count": null,
      "metadata": {
        "colab": {
          "referenced_widgets": [
            "e44f9aef99474c56b64aa915c0b3fc7c",
            "6cd3b3befc044a948a528d7127c11d12",
            "1076b244c8c341bb9fb7dff733a071bc",
            "107c52a955be4a39a0cd4039fb8d2e54",
            "75581b6315f14e7394dc4ad2ddcae768",
            "68a595a5213a4d2c8f02dc1bba90a307",
            "d6aa4ccbcebb4a92924f1908d23a4860",
            "d20bf5eba01b44fbb91617760b4d81e9",
            "fe2f7ef2c9534141b777f21e15fc1ea5",
            "928bcddbaa704f2f840051b8757f83a7"
          ],
          "base_uri": "https://localhost:8080/",
          "height": 536
        },
        "id": "iQHI8Q6wcPGq",
        "outputId": "8c627f16-060c-4f28-f316-94b13b33c952"
      },
      "outputs": [
        {
          "output_type": "display_data",
          "data": {
            "text/plain": [
              "interactive(children=(FloatSlider(value=2.0, description='Grados de Libertad (df1):', max=10.0, min=1.0), Floa…"
            ],
            "application/vnd.jupyter.widget-view+json": {
              "version_major": 2,
              "version_minor": 0,
              "model_id": "e44f9aef99474c56b64aa915c0b3fc7c"
            }
          },
          "metadata": {}
        }
      ],
      "source": [
        "from scipy.stats import f\n",
        "\n",
        "# Función para graficar la distribución F de Fisher\n",
        "def plot_fisher_distribution(df1, df2):\n",
        "    x = np.linspace(0, 5, 1000)\n",
        "    y = f.pdf(x, df1, df2)\n",
        "\n",
        "    plt.plot(x, y)\n",
        "    plt.title(f'Distribución F de Fisher (df1={df1:0.2f}, df2={df2:0.2f})')\n",
        "    plt.xlabel('Valor')\n",
        "    plt.ylabel('Densidad de Probabilidad')\n",
        "    plt.show()\n",
        "\n",
        "# Crear controles interactivos\n",
        "df1_slider = widgets.FloatSlider(value=2, min=1, max=10, step=0.1, description='Grados de Libertad (df1):')\n",
        "df2_slider = widgets.FloatSlider(value=2, min=1, max=10, step=0.1, description='Grados de Libertad (df2):')\n",
        "\n",
        "# Crear widget interactivo\n",
        "interactive_plot = widgets.interactive(plot_fisher_distribution, df1=df1_slider, df2=df2_slider)\n",
        "\n",
        "# Mostrar widget interactivo\n",
        "display(interactive_plot)"
      ]
    },
    {
      "cell_type": "markdown",
      "metadata": {
        "id": "yrXBdPiwcPGq"
      },
      "source": [
        "### Test F de Fisher"
      ]
    },
    {
      "cell_type": "markdown",
      "metadata": {
        "id": "lm0wEMUucPGq"
      },
      "source": [
        "$$\n",
        "F = \\frac{S_1^2}{S_2^2}\n",
        "$$\n",
        "donde $S_1^2$ y $S_2^2$ son las varianzas muestrales de las poblaciones 1 y 2, respectivamente.\n",
        "\n",
        "* El test F de Fisher es un test de hipótesis que se utiliza para contrastar si las varianzas de dos poblaciones son iguales.\n",
        "* Se basa en la distribución F de Fisher, y cuenta con dos parámetros $\\nu_1$ y $\\nu_2$ que representan los grados de libertad de la distribución. Dependen de la cantidad de observaciones de cada muestra.\n",
        "* Las hipótesis del test son:\n",
        "$$\n",
        "H_0: \\text{Las varianzas de las poblaciones son iguales}\\\\\n",
        "H_1: \\text{Las varianzas de las poblaciones son distintas}\n",
        "$$"
      ]
    },
    {
      "cell_type": "markdown",
      "metadata": {
        "id": "Pkb2P71bcPGq"
      },
      "source": [
        "Como ejemplo, estudiemos si la variabilidad de las notas de matemáticas es igual a la variabilidad de las notas de lectura. Para ello, se puede utilizar la función `var_test()` del módulo `testing` de ESTYP."
      ]
    },
    {
      "cell_type": "code",
      "execution_count": null,
      "metadata": {
        "id": "Z9Wp3DxjcPGq",
        "outputId": "b5623a7d-4557-41af-b317-7983ed754968"
      },
      "outputs": [
        {
          "data": {
            "text/plain": [
              "\n",
              "    \u001b[1m\u001b[4mF test to compare two variances\u001b[0m\n",
              "    F = 1.1366 | df = {'x': 149, 'y': 149} | p-value = 0.4355\n",
              "    alternative hypothesis: true ratio of variances is not equal to 1\n",
              "    95 percent confidence interval:\n",
              "     0.823382 1.568931\n",
              "    sample estimates:\n",
              "      ratio of variances: 1.136586\n",
              "    "
            ]
          },
          "execution_count": 22,
          "metadata": {},
          "output_type": "execute_result"
        }
      ],
      "source": [
        "from estyp.testing import var_test\n",
        "\n",
        "var_test(x=data_muestra[\"math score\"], y=data_muestra[\"reading score\"])"
      ]
    },
    {
      "cell_type": "markdown",
      "metadata": {
        "id": "Z8df12cucPGt"
      },
      "source": [
        "En este caso, hay una concordancia entre los datos y $H_0$, por lo que no se rechaza $H_0$. En otras palabras, hay evidencia estadística hacia que la variabilidad de las notas de matemáticas es igual a la variabilidad de las notas de lectura.\n",
        "\n",
        "También podemos estudiar si la variabilidad de los puntajes de lectura es menor a la variabilidad de los puntajes de escritura.\n"
      ]
    },
    {
      "cell_type": "code",
      "execution_count": null,
      "metadata": {
        "id": "96C3eeSocPGt",
        "outputId": "3d4ebe41-62c4-4f09-9198-92884e1718e6"
      },
      "outputs": [
        {
          "data": {
            "text/plain": [
              "\n",
              "    \u001b[1m\u001b[4mF test to compare two variances\u001b[0m\n",
              "    F = 0.8639 | df = {'x': 149, 'y': 149} | p-value = 0.1864\n",
              "    alternative hypothesis: true ratio of variances is less than 1\n",
              "    95 percent confidence interval:\n",
              "     0.000000 1.132071\n",
              "    sample estimates:\n",
              "      ratio of variances: 0.863884\n",
              "    "
            ]
          },
          "execution_count": 23,
          "metadata": {},
          "output_type": "execute_result"
        }
      ],
      "source": [
        "var_test(x=data_muestra['reading score'], y=data_muestra['writing score'], alternative='less')\n",
        "# H_0: var x >= var y\n",
        "# H_1: var x < var y"
      ]
    },
    {
      "cell_type": "markdown",
      "metadata": {
        "id": "IN4uy_oecPGt"
      },
      "source": [
        "En este caso, el valor-p es mayor a 0.05, por lo que hay una concordancia entre los datos y $H_0$, por lo que no se rechaza $H_0$. En otras palabras, hay evidencia estadística hacia que la variabilidad de los puntajes de lectura es mayor o igual a la variabilidad de los puntajes de escritura."
      ]
    },
    {
      "cell_type": "markdown",
      "metadata": {
        "id": "LKQxnkt843Xu"
      },
      "source": [
        "### Test de Kolmogorov-Smirnov\n",
        "\n",
        "* El test de Kolmogorov-Smirnov es un test de hipótesis que se utiliza para contrastar si dos muestras provienen de la misma distribución.\n",
        "* Lo que hace es comparar la función de distribución empírica de las muestras con la función de distribución teórica de la distribución que se está contrastando.\n",
        "* También se puede reemplazar una de las muestras por una distribución teórica, y contrastar si la otra muestra proviene de dicha distribución. Esto es útil para contrastar si una muestra proviene de una distribución normal, por ejemplo.\n",
        "* Las hipótesis del test son:\n",
        "\n",
        "$$\n",
        "H_0: \\text{Las muestras provienen de la misma distribución.} \\\\\n",
        "H_1: \\text{Las muestras provienen de distribuciones distintas.}\n",
        "$$\n",
        "\n",
        "* En Python, se puede utilizar la función `ks_1samp()` del módulo `stats` de `scipy` para realizar el test de Kolmogorov-Smirnov entre una muestra y una distribución teórica."
      ]
    },
    {
      "cell_type": "code",
      "execution_count": null,
      "metadata": {
        "id": "FUgsODYQ43Xu",
        "outputId": "e83210f6-7071-4fe4-9a88-802fb314f209"
      },
      "outputs": [
        {
          "data": {
            "text/plain": [
              "KstestResult(statistic=1.0, pvalue=0.0, statistic_location=24, statistic_sign=-1)"
            ]
          },
          "execution_count": 26,
          "metadata": {},
          "output_type": "execute_result"
        }
      ],
      "source": [
        "from scipy.stats import ks_1samp\n",
        "from scipy.stats import norm\n",
        "\n",
        "# H_0: la muestra proviene desde la distribución\n",
        "# H_1: la muestra no proviene desde la distribución\n",
        "\n",
        "ks_1samp(data_muestra[\"math score\"], norm.cdf)"
      ]
    },
    {
      "cell_type": "markdown",
      "metadata": {
        "id": "4oGoviJu43Xu"
      },
      "source": [
        "El valor-p de este test es menor a 0.05, por lo que hay una discordancia entre los datos y $H_0$, por lo que se rechaza $H_0$. En otras palabras, hay evidencia estadística hacia que la muestra no proviene de una distribución normal."
      ]
    },
    {
      "cell_type": "markdown",
      "metadata": {
        "id": "TVs3DPQlcPGt"
      },
      "source": [
        "La próxima clase, veremos el modelo estadístico de regresión lineal, y cómo utilizarlo para realizar inferencia estadística."
      ]
    },
    {
      "cell_type": "markdown",
      "metadata": {
        "id": "J8DTEASicPGt"
      },
      "source": [
        "### Ejercicios de Práctica\n",
        "\n",
        "Utilice las distribuciones de probabilidad y test de hipótesis para resolver los siguientes ejercicios. Trabaje con un nivel de significancia de 0.05 si corresponde.\n",
        "\n",
        "**1.** La información respecto al proceso de vacunación muestra niveles altos de adherencia en Chile. Sin embargo, en países europeos han tenido problemas dado el alto nivel de rechazo a vacunarse. Datos muestran que en Francia el 55 % de los adultos mayores de residencias geriatricas han rechazado vacunarse. Suponga que un TENS (\"vacunador\") concurre a una residencia geriatrica en Francia, donde residen 35 adultos mayores, con solo 12 dosis.\n",
        "\n",
        "Suponiendo que cada adulto mayor decide vacunarse o no de manera independiente. ¿Cuál es la probabilidad de que todos los adultos mayores que deseen vacunarse puedan hacerlo?."
      ]
    },
    {
      "cell_type": "code",
      "execution_count": null,
      "metadata": {
        "id": "m0PqaXj2cPGt"
      },
      "outputs": [],
      "source": [
        "# Responda aquí\n"
      ]
    },
    {
      "cell_type": "markdown",
      "metadata": {
        "id": "Zp_kIn0JcPGt"
      },
      "source": [
        "**2.** En un supermercado, llegan en promedio 100 clientes por hora, cálcule:\n",
        "* ¿Cuál es la probabilidad de que lleguen 110 clientes en una hora?\n",
        "* ¿Cuál es la probabilidad de que lleguen menos de 90 clientes en una hora?\n",
        "* ¿Cuál es la probabilidad de que lleguen entre 90 y 110 clientes en una hora?"
      ]
    },
    {
      "cell_type": "code",
      "execution_count": null,
      "metadata": {
        "id": "UklXhOk8cPGu"
      },
      "outputs": [],
      "source": [
        "# Responda aquí\n"
      ]
    },
    {
      "cell_type": "markdown",
      "metadata": {
        "id": "VqK0u1Y4cPGu"
      },
      "source": [
        "**3.** Considerando el supermercado anterior, ¿Cuál es la probabilidad de que llege un cliente en 30 segundos?"
      ]
    },
    {
      "cell_type": "code",
      "execution_count": null,
      "metadata": {
        "id": "DEKcVeaqcPGu"
      },
      "outputs": [],
      "source": [
        "# Responda aquí\n"
      ]
    },
    {
      "cell_type": "markdown",
      "metadata": {
        "id": "V3mnuQMQcPGu"
      },
      "source": [
        "**4.** Considere la base de datos `ENS_reducida.xlsx` con los resultados de la Encuesta de Salud Aplicada el año 2018. Construya una tabla de contingencia entre ambas variables y luego realice un test de hipótesis para estudiar si existe asociación entre el nivel de educación y ser fumador."
      ]
    },
    {
      "cell_type": "code",
      "execution_count": null,
      "metadata": {
        "id": "CW-NJ_3ZcPGu"
      },
      "outputs": [],
      "source": [
        "# Responda aquí\n"
      ]
    },
    {
      "cell_type": "markdown",
      "metadata": {
        "id": "uEjkoXZQcPGu"
      },
      "source": [
        "**5.** Los resultados de la encuesta a nivel poblacional el año 2015 indicaron que el 20% de las personas practicaba al menos un deporte. Estudie si el total de personas que practican al menos un deporte ha aumentado en 2018."
      ]
    },
    {
      "cell_type": "code",
      "execution_count": null,
      "metadata": {
        "id": "qldTaQItcPGu"
      },
      "outputs": [],
      "source": [
        "# Responda aquí\n"
      ]
    },
    {
      "cell_type": "markdown",
      "metadata": {
        "id": "dbhh_OJlcPGu"
      },
      "source": [
        "**6.** Estudie si la variabilidad de la presión sistólica en fumadores es menor a la variabilidad de la presión sistólica en no fumadores."
      ]
    },
    {
      "cell_type": "code",
      "execution_count": null,
      "metadata": {
        "id": "P6FUbhFScPGu"
      },
      "outputs": [],
      "source": [
        "# Responda aquí\n"
      ]
    }
  ],
  "metadata": {
    "colab": {
      "provenance": [],
      "include_colab_link": true
    },
    "kernelspec": {
      "display_name": "default",
      "language": "python",
      "name": "python3"
    },
    "language_info": {
      "codemirror_mode": {
        "name": "ipython",
        "version": 3
      },
      "file_extension": ".py",
      "mimetype": "text/x-python",
      "name": "python",
      "nbconvert_exporter": "python",
      "pygments_lexer": "ipython3",
      "version": "3.9.12"
    },
    "orig_nbformat": 4,
    "vscode": {
      "interpreter": {
        "hash": "3fb0f7d9ac85b35c4db44595658f206fada484d7743b0df944cbbd359afb2df3"
      }
    },
    "widgets": {
      "application/vnd.jupyter.widget-state+json": {
        "db5f2ed3c95648cab53bb510f9b83957": {
          "model_module": "@jupyter-widgets/controls",
          "model_name": "VBoxModel",
          "model_module_version": "1.5.0",
          "state": {
            "_dom_classes": [
              "widget-interact"
            ],
            "_model_module": "@jupyter-widgets/controls",
            "_model_module_version": "1.5.0",
            "_model_name": "VBoxModel",
            "_view_count": null,
            "_view_module": "@jupyter-widgets/controls",
            "_view_module_version": "1.5.0",
            "_view_name": "VBoxView",
            "box_style": "",
            "children": [
              "IPY_MODEL_9abc13fea12e4658b3505a8d47ac8019",
              "IPY_MODEL_f763247b5e624cd9929b4af461bfc4aa",
              "IPY_MODEL_1c1fb363e7ab42f8b57cf9dcc815f414"
            ],
            "layout": "IPY_MODEL_ae9075b872fe4fb9b7ac273ab705effb"
          }
        },
        "9abc13fea12e4658b3505a8d47ac8019": {
          "model_module": "@jupyter-widgets/controls",
          "model_name": "IntSliderModel",
          "model_module_version": "1.5.0",
          "state": {
            "_dom_classes": [],
            "_model_module": "@jupyter-widgets/controls",
            "_model_module_version": "1.5.0",
            "_model_name": "IntSliderModel",
            "_view_count": null,
            "_view_module": "@jupyter-widgets/controls",
            "_view_module_version": "1.5.0",
            "_view_name": "IntSliderView",
            "continuous_update": true,
            "description": "n:",
            "description_tooltip": null,
            "disabled": false,
            "layout": "IPY_MODEL_89184756db4645b39b614cb11b84d928",
            "max": 50,
            "min": 1,
            "orientation": "horizontal",
            "readout": true,
            "readout_format": "d",
            "step": 1,
            "style": "IPY_MODEL_4a7e4c9939104ac289023c225754f434",
            "value": 10
          }
        },
        "f763247b5e624cd9929b4af461bfc4aa": {
          "model_module": "@jupyter-widgets/controls",
          "model_name": "FloatSliderModel",
          "model_module_version": "1.5.0",
          "state": {
            "_dom_classes": [],
            "_model_module": "@jupyter-widgets/controls",
            "_model_module_version": "1.5.0",
            "_model_name": "FloatSliderModel",
            "_view_count": null,
            "_view_module": "@jupyter-widgets/controls",
            "_view_module_version": "1.5.0",
            "_view_name": "FloatSliderView",
            "continuous_update": true,
            "description": "p:",
            "description_tooltip": null,
            "disabled": false,
            "layout": "IPY_MODEL_a5928fa4250442ee9eeeb5259d9e012f",
            "max": 1,
            "min": 0,
            "orientation": "horizontal",
            "readout": true,
            "readout_format": ".2f",
            "step": 0.05,
            "style": "IPY_MODEL_b8e3b2851c6447fa9a29b520c7eb97d4",
            "value": 0.5
          }
        },
        "1c1fb363e7ab42f8b57cf9dcc815f414": {
          "model_module": "@jupyter-widgets/output",
          "model_name": "OutputModel",
          "model_module_version": "1.0.0",
          "state": {
            "_dom_classes": [],
            "_model_module": "@jupyter-widgets/output",
            "_model_module_version": "1.0.0",
            "_model_name": "OutputModel",
            "_view_count": null,
            "_view_module": "@jupyter-widgets/output",
            "_view_module_version": "1.0.0",
            "_view_name": "OutputView",
            "layout": "IPY_MODEL_397e1cdeb707428c8e77994544a57afe",
            "msg_id": "",
            "outputs": [
              {
                "output_type": "display_data",
                "data": {
                  "text/plain": "<Figure size 640x480 with 1 Axes>",
                  "image/png": "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\n"
                },
                "metadata": {}
              }
            ]
          }
        },
        "ae9075b872fe4fb9b7ac273ab705effb": {
          "model_module": "@jupyter-widgets/base",
          "model_name": "LayoutModel",
          "model_module_version": "1.2.0",
          "state": {
            "_model_module": "@jupyter-widgets/base",
            "_model_module_version": "1.2.0",
            "_model_name": "LayoutModel",
            "_view_count": null,
            "_view_module": "@jupyter-widgets/base",
            "_view_module_version": "1.2.0",
            "_view_name": "LayoutView",
            "align_content": null,
            "align_items": null,
            "align_self": null,
            "border": null,
            "bottom": null,
            "display": null,
            "flex": null,
            "flex_flow": null,
            "grid_area": null,
            "grid_auto_columns": null,
            "grid_auto_flow": null,
            "grid_auto_rows": null,
            "grid_column": null,
            "grid_gap": null,
            "grid_row": null,
            "grid_template_areas": null,
            "grid_template_columns": null,
            "grid_template_rows": null,
            "height": null,
            "justify_content": null,
            "justify_items": null,
            "left": null,
            "margin": null,
            "max_height": null,
            "max_width": null,
            "min_height": null,
            "min_width": null,
            "object_fit": null,
            "object_position": null,
            "order": null,
            "overflow": null,
            "overflow_x": null,
            "overflow_y": null,
            "padding": null,
            "right": null,
            "top": null,
            "visibility": null,
            "width": null
          }
        },
        "89184756db4645b39b614cb11b84d928": {
          "model_module": "@jupyter-widgets/base",
          "model_name": "LayoutModel",
          "model_module_version": "1.2.0",
          "state": {
            "_model_module": "@jupyter-widgets/base",
            "_model_module_version": "1.2.0",
            "_model_name": "LayoutModel",
            "_view_count": null,
            "_view_module": "@jupyter-widgets/base",
            "_view_module_version": "1.2.0",
            "_view_name": "LayoutView",
            "align_content": null,
            "align_items": null,
            "align_self": null,
            "border": null,
            "bottom": null,
            "display": null,
            "flex": null,
            "flex_flow": null,
            "grid_area": null,
            "grid_auto_columns": null,
            "grid_auto_flow": null,
            "grid_auto_rows": null,
            "grid_column": null,
            "grid_gap": null,
            "grid_row": null,
            "grid_template_areas": null,
            "grid_template_columns": null,
            "grid_template_rows": null,
            "height": null,
            "justify_content": null,
            "justify_items": null,
            "left": null,
            "margin": null,
            "max_height": null,
            "max_width": null,
            "min_height": null,
            "min_width": null,
            "object_fit": null,
            "object_position": null,
            "order": null,
            "overflow": null,
            "overflow_x": null,
            "overflow_y": null,
            "padding": null,
            "right": null,
            "top": null,
            "visibility": null,
            "width": null
          }
        },
        "4a7e4c9939104ac289023c225754f434": {
          "model_module": "@jupyter-widgets/controls",
          "model_name": "SliderStyleModel",
          "model_module_version": "1.5.0",
          "state": {
            "_model_module": "@jupyter-widgets/controls",
            "_model_module_version": "1.5.0",
            "_model_name": "SliderStyleModel",
            "_view_count": null,
            "_view_module": "@jupyter-widgets/base",
            "_view_module_version": "1.2.0",
            "_view_name": "StyleView",
            "description_width": "",
            "handle_color": null
          }
        },
        "a5928fa4250442ee9eeeb5259d9e012f": {
          "model_module": "@jupyter-widgets/base",
          "model_name": "LayoutModel",
          "model_module_version": "1.2.0",
          "state": {
            "_model_module": "@jupyter-widgets/base",
            "_model_module_version": "1.2.0",
            "_model_name": "LayoutModel",
            "_view_count": null,
            "_view_module": "@jupyter-widgets/base",
            "_view_module_version": "1.2.0",
            "_view_name": "LayoutView",
            "align_content": null,
            "align_items": null,
            "align_self": null,
            "border": null,
            "bottom": null,
            "display": null,
            "flex": null,
            "flex_flow": null,
            "grid_area": null,
            "grid_auto_columns": null,
            "grid_auto_flow": null,
            "grid_auto_rows": null,
            "grid_column": null,
            "grid_gap": null,
            "grid_row": null,
            "grid_template_areas": null,
            "grid_template_columns": null,
            "grid_template_rows": null,
            "height": null,
            "justify_content": null,
            "justify_items": null,
            "left": null,
            "margin": null,
            "max_height": null,
            "max_width": null,
            "min_height": null,
            "min_width": null,
            "object_fit": null,
            "object_position": null,
            "order": null,
            "overflow": null,
            "overflow_x": null,
            "overflow_y": null,
            "padding": null,
            "right": null,
            "top": null,
            "visibility": null,
            "width": null
          }
        },
        "b8e3b2851c6447fa9a29b520c7eb97d4": {
          "model_module": "@jupyter-widgets/controls",
          "model_name": "SliderStyleModel",
          "model_module_version": "1.5.0",
          "state": {
            "_model_module": "@jupyter-widgets/controls",
            "_model_module_version": "1.5.0",
            "_model_name": "SliderStyleModel",
            "_view_count": null,
            "_view_module": "@jupyter-widgets/base",
            "_view_module_version": "1.2.0",
            "_view_name": "StyleView",
            "description_width": "",
            "handle_color": null
          }
        },
        "397e1cdeb707428c8e77994544a57afe": {
          "model_module": "@jupyter-widgets/base",
          "model_name": "LayoutModel",
          "model_module_version": "1.2.0",
          "state": {
            "_model_module": "@jupyter-widgets/base",
            "_model_module_version": "1.2.0",
            "_model_name": "LayoutModel",
            "_view_count": null,
            "_view_module": "@jupyter-widgets/base",
            "_view_module_version": "1.2.0",
            "_view_name": "LayoutView",
            "align_content": null,
            "align_items": null,
            "align_self": null,
            "border": null,
            "bottom": null,
            "display": null,
            "flex": null,
            "flex_flow": null,
            "grid_area": null,
            "grid_auto_columns": null,
            "grid_auto_flow": null,
            "grid_auto_rows": null,
            "grid_column": null,
            "grid_gap": null,
            "grid_row": null,
            "grid_template_areas": null,
            "grid_template_columns": null,
            "grid_template_rows": null,
            "height": null,
            "justify_content": null,
            "justify_items": null,
            "left": null,
            "margin": null,
            "max_height": null,
            "max_width": null,
            "min_height": null,
            "min_width": null,
            "object_fit": null,
            "object_position": null,
            "order": null,
            "overflow": null,
            "overflow_x": null,
            "overflow_y": null,
            "padding": null,
            "right": null,
            "top": null,
            "visibility": null,
            "width": null
          }
        },
        "4d6d33da793e4a789251e5b44708c6cf": {
          "model_module": "@jupyter-widgets/controls",
          "model_name": "VBoxModel",
          "model_module_version": "1.5.0",
          "state": {
            "_dom_classes": [
              "widget-interact"
            ],
            "_model_module": "@jupyter-widgets/controls",
            "_model_module_version": "1.5.0",
            "_model_name": "VBoxModel",
            "_view_count": null,
            "_view_module": "@jupyter-widgets/controls",
            "_view_module_version": "1.5.0",
            "_view_name": "VBoxView",
            "box_style": "",
            "children": [
              "IPY_MODEL_14ff5e01b8ae4942a82e681751cd3617",
              "IPY_MODEL_2f149a7692bd406bb83caebb8007574c"
            ],
            "layout": "IPY_MODEL_a224a0bea05740ac95599065ae8e70f2"
          }
        },
        "14ff5e01b8ae4942a82e681751cd3617": {
          "model_module": "@jupyter-widgets/controls",
          "model_name": "FloatSliderModel",
          "model_module_version": "1.5.0",
          "state": {
            "_dom_classes": [],
            "_model_module": "@jupyter-widgets/controls",
            "_model_module_version": "1.5.0",
            "_model_name": "FloatSliderModel",
            "_view_count": null,
            "_view_module": "@jupyter-widgets/controls",
            "_view_module_version": "1.5.0",
            "_view_name": "FloatSliderView",
            "continuous_update": true,
            "description": "λ:",
            "description_tooltip": null,
            "disabled": false,
            "layout": "IPY_MODEL_8d0c261ca2464433bf708faa842c42d6",
            "max": 20,
            "min": 0.1,
            "orientation": "horizontal",
            "readout": true,
            "readout_format": ".2f",
            "step": 0.1,
            "style": "IPY_MODEL_b1314fa074af4b41aadfdc50c3e90f6c",
            "value": 2
          }
        },
        "2f149a7692bd406bb83caebb8007574c": {
          "model_module": "@jupyter-widgets/output",
          "model_name": "OutputModel",
          "model_module_version": "1.0.0",
          "state": {
            "_dom_classes": [],
            "_model_module": "@jupyter-widgets/output",
            "_model_module_version": "1.0.0",
            "_model_name": "OutputModel",
            "_view_count": null,
            "_view_module": "@jupyter-widgets/output",
            "_view_module_version": "1.0.0",
            "_view_name": "OutputView",
            "layout": "IPY_MODEL_900fbe66c85144ca9bd3a78b53a96c29",
            "msg_id": "",
            "outputs": [
              {
                "output_type": "display_data",
                "data": {
                  "text/plain": "<Figure size 640x480 with 1 Axes>",
                  "image/png": "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\n"
                },
                "metadata": {}
              }
            ]
          }
        },
        "a224a0bea05740ac95599065ae8e70f2": {
          "model_module": "@jupyter-widgets/base",
          "model_name": "LayoutModel",
          "model_module_version": "1.2.0",
          "state": {
            "_model_module": "@jupyter-widgets/base",
            "_model_module_version": "1.2.0",
            "_model_name": "LayoutModel",
            "_view_count": null,
            "_view_module": "@jupyter-widgets/base",
            "_view_module_version": "1.2.0",
            "_view_name": "LayoutView",
            "align_content": null,
            "align_items": null,
            "align_self": null,
            "border": null,
            "bottom": null,
            "display": null,
            "flex": null,
            "flex_flow": null,
            "grid_area": null,
            "grid_auto_columns": null,
            "grid_auto_flow": null,
            "grid_auto_rows": null,
            "grid_column": null,
            "grid_gap": null,
            "grid_row": null,
            "grid_template_areas": null,
            "grid_template_columns": null,
            "grid_template_rows": null,
            "height": null,
            "justify_content": null,
            "justify_items": null,
            "left": null,
            "margin": null,
            "max_height": null,
            "max_width": null,
            "min_height": null,
            "min_width": null,
            "object_fit": null,
            "object_position": null,
            "order": null,
            "overflow": null,
            "overflow_x": null,
            "overflow_y": null,
            "padding": null,
            "right": null,
            "top": null,
            "visibility": null,
            "width": null
          }
        },
        "8d0c261ca2464433bf708faa842c42d6": {
          "model_module": "@jupyter-widgets/base",
          "model_name": "LayoutModel",
          "model_module_version": "1.2.0",
          "state": {
            "_model_module": "@jupyter-widgets/base",
            "_model_module_version": "1.2.0",
            "_model_name": "LayoutModel",
            "_view_count": null,
            "_view_module": "@jupyter-widgets/base",
            "_view_module_version": "1.2.0",
            "_view_name": "LayoutView",
            "align_content": null,
            "align_items": null,
            "align_self": null,
            "border": null,
            "bottom": null,
            "display": null,
            "flex": null,
            "flex_flow": null,
            "grid_area": null,
            "grid_auto_columns": null,
            "grid_auto_flow": null,
            "grid_auto_rows": null,
            "grid_column": null,
            "grid_gap": null,
            "grid_row": null,
            "grid_template_areas": null,
            "grid_template_columns": null,
            "grid_template_rows": null,
            "height": null,
            "justify_content": null,
            "justify_items": null,
            "left": null,
            "margin": null,
            "max_height": null,
            "max_width": null,
            "min_height": null,
            "min_width": null,
            "object_fit": null,
            "object_position": null,
            "order": null,
            "overflow": null,
            "overflow_x": null,
            "overflow_y": null,
            "padding": null,
            "right": null,
            "top": null,
            "visibility": null,
            "width": null
          }
        },
        "b1314fa074af4b41aadfdc50c3e90f6c": {
          "model_module": "@jupyter-widgets/controls",
          "model_name": "SliderStyleModel",
          "model_module_version": "1.5.0",
          "state": {
            "_model_module": "@jupyter-widgets/controls",
            "_model_module_version": "1.5.0",
            "_model_name": "SliderStyleModel",
            "_view_count": null,
            "_view_module": "@jupyter-widgets/base",
            "_view_module_version": "1.2.0",
            "_view_name": "StyleView",
            "description_width": "",
            "handle_color": null
          }
        },
        "900fbe66c85144ca9bd3a78b53a96c29": {
          "model_module": "@jupyter-widgets/base",
          "model_name": "LayoutModel",
          "model_module_version": "1.2.0",
          "state": {
            "_model_module": "@jupyter-widgets/base",
            "_model_module_version": "1.2.0",
            "_model_name": "LayoutModel",
            "_view_count": null,
            "_view_module": "@jupyter-widgets/base",
            "_view_module_version": "1.2.0",
            "_view_name": "LayoutView",
            "align_content": null,
            "align_items": null,
            "align_self": null,
            "border": null,
            "bottom": null,
            "display": null,
            "flex": null,
            "flex_flow": null,
            "grid_area": null,
            "grid_auto_columns": null,
            "grid_auto_flow": null,
            "grid_auto_rows": null,
            "grid_column": null,
            "grid_gap": null,
            "grid_row": null,
            "grid_template_areas": null,
            "grid_template_columns": null,
            "grid_template_rows": null,
            "height": null,
            "justify_content": null,
            "justify_items": null,
            "left": null,
            "margin": null,
            "max_height": null,
            "max_width": null,
            "min_height": null,
            "min_width": null,
            "object_fit": null,
            "object_position": null,
            "order": null,
            "overflow": null,
            "overflow_x": null,
            "overflow_y": null,
            "padding": null,
            "right": null,
            "top": null,
            "visibility": null,
            "width": null
          }
        },
        "ba369a6c076c4eeaa6dc2d49b49482cf": {
          "model_module": "@jupyter-widgets/controls",
          "model_name": "VBoxModel",
          "model_module_version": "1.5.0",
          "state": {
            "_dom_classes": [
              "widget-interact"
            ],
            "_model_module": "@jupyter-widgets/controls",
            "_model_module_version": "1.5.0",
            "_model_name": "VBoxModel",
            "_view_count": null,
            "_view_module": "@jupyter-widgets/controls",
            "_view_module_version": "1.5.0",
            "_view_name": "VBoxView",
            "box_style": "",
            "children": [
              "IPY_MODEL_9e66724a322249aaa9c80d6640d95044",
              "IPY_MODEL_eaf874de2a7b4cb79c1f6bb4381484bb"
            ],
            "layout": "IPY_MODEL_ccee7dbc3d40413b835e91a82853fcd6"
          }
        },
        "9e66724a322249aaa9c80d6640d95044": {
          "model_module": "@jupyter-widgets/controls",
          "model_name": "FloatSliderModel",
          "model_module_version": "1.5.0",
          "state": {
            "_dom_classes": [],
            "_model_module": "@jupyter-widgets/controls",
            "_model_module_version": "1.5.0",
            "_model_name": "FloatSliderModel",
            "_view_count": null,
            "_view_module": "@jupyter-widgets/controls",
            "_view_module_version": "1.5.0",
            "_view_name": "FloatSliderView",
            "continuous_update": true,
            "description": "Tasa Promedio:",
            "description_tooltip": null,
            "disabled": false,
            "layout": "IPY_MODEL_ee22cbedb0e34105861f8b301e2e5bda",
            "max": 5,
            "min": 0.1,
            "orientation": "horizontal",
            "readout": true,
            "readout_format": ".2f",
            "step": 0.1,
            "style": "IPY_MODEL_6115f44c8dc24b4cb6433e7ce38b072d",
            "value": 2.6
          }
        },
        "eaf874de2a7b4cb79c1f6bb4381484bb": {
          "model_module": "@jupyter-widgets/output",
          "model_name": "OutputModel",
          "model_module_version": "1.0.0",
          "state": {
            "_dom_classes": [],
            "_model_module": "@jupyter-widgets/output",
            "_model_module_version": "1.0.0",
            "_model_name": "OutputModel",
            "_view_count": null,
            "_view_module": "@jupyter-widgets/output",
            "_view_module_version": "1.0.0",
            "_view_name": "OutputView",
            "layout": "IPY_MODEL_ee6a1f883d1e4e4db6117e2db35fcb91",
            "msg_id": "",
            "outputs": [
              {
                "output_type": "display_data",
                "data": {
                  "text/plain": "<Figure size 640x480 with 1 Axes>",
                  "image/png": "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\n"
                },
                "metadata": {}
              }
            ]
          }
        },
        "ccee7dbc3d40413b835e91a82853fcd6": {
          "model_module": "@jupyter-widgets/base",
          "model_name": "LayoutModel",
          "model_module_version": "1.2.0",
          "state": {
            "_model_module": "@jupyter-widgets/base",
            "_model_module_version": "1.2.0",
            "_model_name": "LayoutModel",
            "_view_count": null,
            "_view_module": "@jupyter-widgets/base",
            "_view_module_version": "1.2.0",
            "_view_name": "LayoutView",
            "align_content": null,
            "align_items": null,
            "align_self": null,
            "border": null,
            "bottom": null,
            "display": null,
            "flex": null,
            "flex_flow": null,
            "grid_area": null,
            "grid_auto_columns": null,
            "grid_auto_flow": null,
            "grid_auto_rows": null,
            "grid_column": null,
            "grid_gap": null,
            "grid_row": null,
            "grid_template_areas": null,
            "grid_template_columns": null,
            "grid_template_rows": null,
            "height": null,
            "justify_content": null,
            "justify_items": null,
            "left": null,
            "margin": null,
            "max_height": null,
            "max_width": null,
            "min_height": null,
            "min_width": null,
            "object_fit": null,
            "object_position": null,
            "order": null,
            "overflow": null,
            "overflow_x": null,
            "overflow_y": null,
            "padding": null,
            "right": null,
            "top": null,
            "visibility": null,
            "width": null
          }
        },
        "ee22cbedb0e34105861f8b301e2e5bda": {
          "model_module": "@jupyter-widgets/base",
          "model_name": "LayoutModel",
          "model_module_version": "1.2.0",
          "state": {
            "_model_module": "@jupyter-widgets/base",
            "_model_module_version": "1.2.0",
            "_model_name": "LayoutModel",
            "_view_count": null,
            "_view_module": "@jupyter-widgets/base",
            "_view_module_version": "1.2.0",
            "_view_name": "LayoutView",
            "align_content": null,
            "align_items": null,
            "align_self": null,
            "border": null,
            "bottom": null,
            "display": null,
            "flex": null,
            "flex_flow": null,
            "grid_area": null,
            "grid_auto_columns": null,
            "grid_auto_flow": null,
            "grid_auto_rows": null,
            "grid_column": null,
            "grid_gap": null,
            "grid_row": null,
            "grid_template_areas": null,
            "grid_template_columns": null,
            "grid_template_rows": null,
            "height": null,
            "justify_content": null,
            "justify_items": null,
            "left": null,
            "margin": null,
            "max_height": null,
            "max_width": null,
            "min_height": null,
            "min_width": null,
            "object_fit": null,
            "object_position": null,
            "order": null,
            "overflow": null,
            "overflow_x": null,
            "overflow_y": null,
            "padding": null,
            "right": null,
            "top": null,
            "visibility": null,
            "width": null
          }
        },
        "6115f44c8dc24b4cb6433e7ce38b072d": {
          "model_module": "@jupyter-widgets/controls",
          "model_name": "SliderStyleModel",
          "model_module_version": "1.5.0",
          "state": {
            "_model_module": "@jupyter-widgets/controls",
            "_model_module_version": "1.5.0",
            "_model_name": "SliderStyleModel",
            "_view_count": null,
            "_view_module": "@jupyter-widgets/base",
            "_view_module_version": "1.2.0",
            "_view_name": "StyleView",
            "description_width": "",
            "handle_color": null
          }
        },
        "ee6a1f883d1e4e4db6117e2db35fcb91": {
          "model_module": "@jupyter-widgets/base",
          "model_name": "LayoutModel",
          "model_module_version": "1.2.0",
          "state": {
            "_model_module": "@jupyter-widgets/base",
            "_model_module_version": "1.2.0",
            "_model_name": "LayoutModel",
            "_view_count": null,
            "_view_module": "@jupyter-widgets/base",
            "_view_module_version": "1.2.0",
            "_view_name": "LayoutView",
            "align_content": null,
            "align_items": null,
            "align_self": null,
            "border": null,
            "bottom": null,
            "display": null,
            "flex": null,
            "flex_flow": null,
            "grid_area": null,
            "grid_auto_columns": null,
            "grid_auto_flow": null,
            "grid_auto_rows": null,
            "grid_column": null,
            "grid_gap": null,
            "grid_row": null,
            "grid_template_areas": null,
            "grid_template_columns": null,
            "grid_template_rows": null,
            "height": null,
            "justify_content": null,
            "justify_items": null,
            "left": null,
            "margin": null,
            "max_height": null,
            "max_width": null,
            "min_height": null,
            "min_width": null,
            "object_fit": null,
            "object_position": null,
            "order": null,
            "overflow": null,
            "overflow_x": null,
            "overflow_y": null,
            "padding": null,
            "right": null,
            "top": null,
            "visibility": null,
            "width": null
          }
        },
        "8c8985b6afe74644899aef476631e0f8": {
          "model_module": "@jupyter-widgets/controls",
          "model_name": "VBoxModel",
          "model_module_version": "1.5.0",
          "state": {
            "_dom_classes": [
              "widget-interact"
            ],
            "_model_module": "@jupyter-widgets/controls",
            "_model_module_version": "1.5.0",
            "_model_name": "VBoxModel",
            "_view_count": null,
            "_view_module": "@jupyter-widgets/controls",
            "_view_module_version": "1.5.0",
            "_view_name": "VBoxView",
            "box_style": "",
            "children": [
              "IPY_MODEL_72a743c216d44020a147e07dbcd9bb4e",
              "IPY_MODEL_bdbf7da0f28c41e18e8a5ac28330cce6"
            ],
            "layout": "IPY_MODEL_3acc63489b044094a7b3fc4679e60354"
          }
        },
        "72a743c216d44020a147e07dbcd9bb4e": {
          "model_module": "@jupyter-widgets/controls",
          "model_name": "FloatSliderModel",
          "model_module_version": "1.5.0",
          "state": {
            "_dom_classes": [],
            "_model_module": "@jupyter-widgets/controls",
            "_model_module_version": "1.5.0",
            "_model_name": "FloatSliderModel",
            "_view_count": null,
            "_view_module": "@jupyter-widgets/controls",
            "_view_module_version": "1.5.0",
            "_view_name": "FloatSliderView",
            "continuous_update": true,
            "description": "Grados de Libertad:",
            "description_tooltip": null,
            "disabled": false,
            "layout": "IPY_MODEL_8eb228dc935a4080b244e2672e660821",
            "max": 20,
            "min": 1,
            "orientation": "horizontal",
            "readout": true,
            "readout_format": ".2f",
            "step": 0.1,
            "style": "IPY_MODEL_285696a740ee42f08e7c0400f7b82977",
            "value": 15
          }
        },
        "bdbf7da0f28c41e18e8a5ac28330cce6": {
          "model_module": "@jupyter-widgets/output",
          "model_name": "OutputModel",
          "model_module_version": "1.0.0",
          "state": {
            "_dom_classes": [],
            "_model_module": "@jupyter-widgets/output",
            "_model_module_version": "1.0.0",
            "_model_name": "OutputModel",
            "_view_count": null,
            "_view_module": "@jupyter-widgets/output",
            "_view_module_version": "1.0.0",
            "_view_name": "OutputView",
            "layout": "IPY_MODEL_230ad468c2854e338bd42109a5c12283",
            "msg_id": "",
            "outputs": [
              {
                "output_type": "display_data",
                "data": {
                  "text/plain": "<Figure size 640x480 with 1 Axes>",
                  "image/png": "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\n"
                },
                "metadata": {}
              }
            ]
          }
        },
        "3acc63489b044094a7b3fc4679e60354": {
          "model_module": "@jupyter-widgets/base",
          "model_name": "LayoutModel",
          "model_module_version": "1.2.0",
          "state": {
            "_model_module": "@jupyter-widgets/base",
            "_model_module_version": "1.2.0",
            "_model_name": "LayoutModel",
            "_view_count": null,
            "_view_module": "@jupyter-widgets/base",
            "_view_module_version": "1.2.0",
            "_view_name": "LayoutView",
            "align_content": null,
            "align_items": null,
            "align_self": null,
            "border": null,
            "bottom": null,
            "display": null,
            "flex": null,
            "flex_flow": null,
            "grid_area": null,
            "grid_auto_columns": null,
            "grid_auto_flow": null,
            "grid_auto_rows": null,
            "grid_column": null,
            "grid_gap": null,
            "grid_row": null,
            "grid_template_areas": null,
            "grid_template_columns": null,
            "grid_template_rows": null,
            "height": null,
            "justify_content": null,
            "justify_items": null,
            "left": null,
            "margin": null,
            "max_height": null,
            "max_width": null,
            "min_height": null,
            "min_width": null,
            "object_fit": null,
            "object_position": null,
            "order": null,
            "overflow": null,
            "overflow_x": null,
            "overflow_y": null,
            "padding": null,
            "right": null,
            "top": null,
            "visibility": null,
            "width": null
          }
        },
        "8eb228dc935a4080b244e2672e660821": {
          "model_module": "@jupyter-widgets/base",
          "model_name": "LayoutModel",
          "model_module_version": "1.2.0",
          "state": {
            "_model_module": "@jupyter-widgets/base",
            "_model_module_version": "1.2.0",
            "_model_name": "LayoutModel",
            "_view_count": null,
            "_view_module": "@jupyter-widgets/base",
            "_view_module_version": "1.2.0",
            "_view_name": "LayoutView",
            "align_content": null,
            "align_items": null,
            "align_self": null,
            "border": null,
            "bottom": null,
            "display": null,
            "flex": null,
            "flex_flow": null,
            "grid_area": null,
            "grid_auto_columns": null,
            "grid_auto_flow": null,
            "grid_auto_rows": null,
            "grid_column": null,
            "grid_gap": null,
            "grid_row": null,
            "grid_template_areas": null,
            "grid_template_columns": null,
            "grid_template_rows": null,
            "height": null,
            "justify_content": null,
            "justify_items": null,
            "left": null,
            "margin": null,
            "max_height": null,
            "max_width": null,
            "min_height": null,
            "min_width": null,
            "object_fit": null,
            "object_position": null,
            "order": null,
            "overflow": null,
            "overflow_x": null,
            "overflow_y": null,
            "padding": null,
            "right": null,
            "top": null,
            "visibility": null,
            "width": null
          }
        },
        "285696a740ee42f08e7c0400f7b82977": {
          "model_module": "@jupyter-widgets/controls",
          "model_name": "SliderStyleModel",
          "model_module_version": "1.5.0",
          "state": {
            "_model_module": "@jupyter-widgets/controls",
            "_model_module_version": "1.5.0",
            "_model_name": "SliderStyleModel",
            "_view_count": null,
            "_view_module": "@jupyter-widgets/base",
            "_view_module_version": "1.2.0",
            "_view_name": "StyleView",
            "description_width": "",
            "handle_color": null
          }
        },
        "230ad468c2854e338bd42109a5c12283": {
          "model_module": "@jupyter-widgets/base",
          "model_name": "LayoutModel",
          "model_module_version": "1.2.0",
          "state": {
            "_model_module": "@jupyter-widgets/base",
            "_model_module_version": "1.2.0",
            "_model_name": "LayoutModel",
            "_view_count": null,
            "_view_module": "@jupyter-widgets/base",
            "_view_module_version": "1.2.0",
            "_view_name": "LayoutView",
            "align_content": null,
            "align_items": null,
            "align_self": null,
            "border": null,
            "bottom": null,
            "display": null,
            "flex": null,
            "flex_flow": null,
            "grid_area": null,
            "grid_auto_columns": null,
            "grid_auto_flow": null,
            "grid_auto_rows": null,
            "grid_column": null,
            "grid_gap": null,
            "grid_row": null,
            "grid_template_areas": null,
            "grid_template_columns": null,
            "grid_template_rows": null,
            "height": null,
            "justify_content": null,
            "justify_items": null,
            "left": null,
            "margin": null,
            "max_height": null,
            "max_width": null,
            "min_height": null,
            "min_width": null,
            "object_fit": null,
            "object_position": null,
            "order": null,
            "overflow": null,
            "overflow_x": null,
            "overflow_y": null,
            "padding": null,
            "right": null,
            "top": null,
            "visibility": null,
            "width": null
          }
        },
        "e44f9aef99474c56b64aa915c0b3fc7c": {
          "model_module": "@jupyter-widgets/controls",
          "model_name": "VBoxModel",
          "model_module_version": "1.5.0",
          "state": {
            "_dom_classes": [
              "widget-interact"
            ],
            "_model_module": "@jupyter-widgets/controls",
            "_model_module_version": "1.5.0",
            "_model_name": "VBoxModel",
            "_view_count": null,
            "_view_module": "@jupyter-widgets/controls",
            "_view_module_version": "1.5.0",
            "_view_name": "VBoxView",
            "box_style": "",
            "children": [
              "IPY_MODEL_6cd3b3befc044a948a528d7127c11d12",
              "IPY_MODEL_1076b244c8c341bb9fb7dff733a071bc",
              "IPY_MODEL_107c52a955be4a39a0cd4039fb8d2e54"
            ],
            "layout": "IPY_MODEL_75581b6315f14e7394dc4ad2ddcae768"
          }
        },
        "6cd3b3befc044a948a528d7127c11d12": {
          "model_module": "@jupyter-widgets/controls",
          "model_name": "FloatSliderModel",
          "model_module_version": "1.5.0",
          "state": {
            "_dom_classes": [],
            "_model_module": "@jupyter-widgets/controls",
            "_model_module_version": "1.5.0",
            "_model_name": "FloatSliderModel",
            "_view_count": null,
            "_view_module": "@jupyter-widgets/controls",
            "_view_module_version": "1.5.0",
            "_view_name": "FloatSliderView",
            "continuous_update": true,
            "description": "Grados de Libertad (df1):",
            "description_tooltip": null,
            "disabled": false,
            "layout": "IPY_MODEL_68a595a5213a4d2c8f02dc1bba90a307",
            "max": 10,
            "min": 1,
            "orientation": "horizontal",
            "readout": true,
            "readout_format": ".2f",
            "step": 0.1,
            "style": "IPY_MODEL_d6aa4ccbcebb4a92924f1908d23a4860",
            "value": 2.8
          }
        },
        "1076b244c8c341bb9fb7dff733a071bc": {
          "model_module": "@jupyter-widgets/controls",
          "model_name": "FloatSliderModel",
          "model_module_version": "1.5.0",
          "state": {
            "_dom_classes": [],
            "_model_module": "@jupyter-widgets/controls",
            "_model_module_version": "1.5.0",
            "_model_name": "FloatSliderModel",
            "_view_count": null,
            "_view_module": "@jupyter-widgets/controls",
            "_view_module_version": "1.5.0",
            "_view_name": "FloatSliderView",
            "continuous_update": true,
            "description": "Grados de Libertad (df2):",
            "description_tooltip": null,
            "disabled": false,
            "layout": "IPY_MODEL_d20bf5eba01b44fbb91617760b4d81e9",
            "max": 10,
            "min": 1,
            "orientation": "horizontal",
            "readout": true,
            "readout_format": ".2f",
            "step": 0.1,
            "style": "IPY_MODEL_fe2f7ef2c9534141b777f21e15fc1ea5",
            "value": 2.8
          }
        },
        "107c52a955be4a39a0cd4039fb8d2e54": {
          "model_module": "@jupyter-widgets/output",
          "model_name": "OutputModel",
          "model_module_version": "1.0.0",
          "state": {
            "_dom_classes": [],
            "_model_module": "@jupyter-widgets/output",
            "_model_module_version": "1.0.0",
            "_model_name": "OutputModel",
            "_view_count": null,
            "_view_module": "@jupyter-widgets/output",
            "_view_module_version": "1.0.0",
            "_view_name": "OutputView",
            "layout": "IPY_MODEL_928bcddbaa704f2f840051b8757f83a7",
            "msg_id": "",
            "outputs": [
              {
                "output_type": "display_data",
                "data": {
                  "text/plain": "<Figure size 640x480 with 1 Axes>",
                  "image/png": "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\n"
                },
                "metadata": {}
              }
            ]
          }
        },
        "75581b6315f14e7394dc4ad2ddcae768": {
          "model_module": "@jupyter-widgets/base",
          "model_name": "LayoutModel",
          "model_module_version": "1.2.0",
          "state": {
            "_model_module": "@jupyter-widgets/base",
            "_model_module_version": "1.2.0",
            "_model_name": "LayoutModel",
            "_view_count": null,
            "_view_module": "@jupyter-widgets/base",
            "_view_module_version": "1.2.0",
            "_view_name": "LayoutView",
            "align_content": null,
            "align_items": null,
            "align_self": null,
            "border": null,
            "bottom": null,
            "display": null,
            "flex": null,
            "flex_flow": null,
            "grid_area": null,
            "grid_auto_columns": null,
            "grid_auto_flow": null,
            "grid_auto_rows": null,
            "grid_column": null,
            "grid_gap": null,
            "grid_row": null,
            "grid_template_areas": null,
            "grid_template_columns": null,
            "grid_template_rows": null,
            "height": null,
            "justify_content": null,
            "justify_items": null,
            "left": null,
            "margin": null,
            "max_height": null,
            "max_width": null,
            "min_height": null,
            "min_width": null,
            "object_fit": null,
            "object_position": null,
            "order": null,
            "overflow": null,
            "overflow_x": null,
            "overflow_y": null,
            "padding": null,
            "right": null,
            "top": null,
            "visibility": null,
            "width": null
          }
        },
        "68a595a5213a4d2c8f02dc1bba90a307": {
          "model_module": "@jupyter-widgets/base",
          "model_name": "LayoutModel",
          "model_module_version": "1.2.0",
          "state": {
            "_model_module": "@jupyter-widgets/base",
            "_model_module_version": "1.2.0",
            "_model_name": "LayoutModel",
            "_view_count": null,
            "_view_module": "@jupyter-widgets/base",
            "_view_module_version": "1.2.0",
            "_view_name": "LayoutView",
            "align_content": null,
            "align_items": null,
            "align_self": null,
            "border": null,
            "bottom": null,
            "display": null,
            "flex": null,
            "flex_flow": null,
            "grid_area": null,
            "grid_auto_columns": null,
            "grid_auto_flow": null,
            "grid_auto_rows": null,
            "grid_column": null,
            "grid_gap": null,
            "grid_row": null,
            "grid_template_areas": null,
            "grid_template_columns": null,
            "grid_template_rows": null,
            "height": null,
            "justify_content": null,
            "justify_items": null,
            "left": null,
            "margin": null,
            "max_height": null,
            "max_width": null,
            "min_height": null,
            "min_width": null,
            "object_fit": null,
            "object_position": null,
            "order": null,
            "overflow": null,
            "overflow_x": null,
            "overflow_y": null,
            "padding": null,
            "right": null,
            "top": null,
            "visibility": null,
            "width": null
          }
        },
        "d6aa4ccbcebb4a92924f1908d23a4860": {
          "model_module": "@jupyter-widgets/controls",
          "model_name": "SliderStyleModel",
          "model_module_version": "1.5.0",
          "state": {
            "_model_module": "@jupyter-widgets/controls",
            "_model_module_version": "1.5.0",
            "_model_name": "SliderStyleModel",
            "_view_count": null,
            "_view_module": "@jupyter-widgets/base",
            "_view_module_version": "1.2.0",
            "_view_name": "StyleView",
            "description_width": "",
            "handle_color": null
          }
        },
        "d20bf5eba01b44fbb91617760b4d81e9": {
          "model_module": "@jupyter-widgets/base",
          "model_name": "LayoutModel",
          "model_module_version": "1.2.0",
          "state": {
            "_model_module": "@jupyter-widgets/base",
            "_model_module_version": "1.2.0",
            "_model_name": "LayoutModel",
            "_view_count": null,
            "_view_module": "@jupyter-widgets/base",
            "_view_module_version": "1.2.0",
            "_view_name": "LayoutView",
            "align_content": null,
            "align_items": null,
            "align_self": null,
            "border": null,
            "bottom": null,
            "display": null,
            "flex": null,
            "flex_flow": null,
            "grid_area": null,
            "grid_auto_columns": null,
            "grid_auto_flow": null,
            "grid_auto_rows": null,
            "grid_column": null,
            "grid_gap": null,
            "grid_row": null,
            "grid_template_areas": null,
            "grid_template_columns": null,
            "grid_template_rows": null,
            "height": null,
            "justify_content": null,
            "justify_items": null,
            "left": null,
            "margin": null,
            "max_height": null,
            "max_width": null,
            "min_height": null,
            "min_width": null,
            "object_fit": null,
            "object_position": null,
            "order": null,
            "overflow": null,
            "overflow_x": null,
            "overflow_y": null,
            "padding": null,
            "right": null,
            "top": null,
            "visibility": null,
            "width": null
          }
        },
        "fe2f7ef2c9534141b777f21e15fc1ea5": {
          "model_module": "@jupyter-widgets/controls",
          "model_name": "SliderStyleModel",
          "model_module_version": "1.5.0",
          "state": {
            "_model_module": "@jupyter-widgets/controls",
            "_model_module_version": "1.5.0",
            "_model_name": "SliderStyleModel",
            "_view_count": null,
            "_view_module": "@jupyter-widgets/base",
            "_view_module_version": "1.2.0",
            "_view_name": "StyleView",
            "description_width": "",
            "handle_color": null
          }
        },
        "928bcddbaa704f2f840051b8757f83a7": {
          "model_module": "@jupyter-widgets/base",
          "model_name": "LayoutModel",
          "model_module_version": "1.2.0",
          "state": {
            "_model_module": "@jupyter-widgets/base",
            "_model_module_version": "1.2.0",
            "_model_name": "LayoutModel",
            "_view_count": null,
            "_view_module": "@jupyter-widgets/base",
            "_view_module_version": "1.2.0",
            "_view_name": "LayoutView",
            "align_content": null,
            "align_items": null,
            "align_self": null,
            "border": null,
            "bottom": null,
            "display": null,
            "flex": null,
            "flex_flow": null,
            "grid_area": null,
            "grid_auto_columns": null,
            "grid_auto_flow": null,
            "grid_auto_rows": null,
            "grid_column": null,
            "grid_gap": null,
            "grid_row": null,
            "grid_template_areas": null,
            "grid_template_columns": null,
            "grid_template_rows": null,
            "height": null,
            "justify_content": null,
            "justify_items": null,
            "left": null,
            "margin": null,
            "max_height": null,
            "max_width": null,
            "min_height": null,
            "min_width": null,
            "object_fit": null,
            "object_position": null,
            "order": null,
            "overflow": null,
            "overflow_x": null,
            "overflow_y": null,
            "padding": null,
            "right": null,
            "top": null,
            "visibility": null,
            "width": null
          }
        }
      }
    }
  },
  "nbformat": 4,
  "nbformat_minor": 0
}
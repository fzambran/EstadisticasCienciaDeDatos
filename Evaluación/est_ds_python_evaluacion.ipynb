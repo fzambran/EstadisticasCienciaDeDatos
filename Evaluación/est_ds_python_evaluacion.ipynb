{
  "cells": [
    {
      "cell_type": "markdown",
      "metadata": {
        "id": "view-in-github",
        "colab_type": "text"
      },
      "source": [
        "<a href=\"https://colab.research.google.com/github/fzambran/EstadisticasCienciaDeDatos/blob/main/Evaluaci%C3%B3n/est_ds_python_evaluacion.ipynb\" target=\"_parent\"><img src=\"https://colab.research.google.com/assets/colab-badge.svg\" alt=\"Open In Colab\"/></a>"
      ]
    },
    {
      "cell_type": "markdown",
      "metadata": {
        "id": "r5iBvY2o-_nM"
      },
      "source": [
        "# Evaluación de Cierre\n",
        "\n",
        "**Estadísticas para la Ciencia de Datos con Python**</br>\n",
        "**Escuela de Informática y Telecomunicaciones**</br>\n",
        "**Duoc UC**\n",
        "\n",
        "---\n",
        "\n",
        "## Problemas con el uso de la Tarjeta Compra Más (TCM)"
      ]
    },
    {
      "cell_type": "markdown",
      "metadata": {
        "id": "LFL4EYDM-_nQ"
      },
      "source": [
        "Usted, como *Data Scientist* se desempeña en una empresa del Retail donde, como experto, tiene como labor determinar las áreas débiles y fuertes a identificar y proponer mejoras.\n",
        "\n",
        "En una reunión (tormenta de ideas) se determina que el uso de nuestra tarjeta presenta áreas de mejora en varios aspectos. Sin embargo, es necesario verificar o refutar las apreciaciones que, durante la reunión, se plantearon sobre la TCM. Estás se pueden indexar como sigue:\n",
        "\n",
        "* **Montos**: El comité de promociones discute que ellos han focalizado apropiadamente las ofertas, de tal\n",
        "forma que han logrado incrementar los montos de compras mensuales, y para comprobar indican que en 2021 fue de \\$1.150.000 en promedio, asegurando que en 2022 debe ser superior.\n",
        "* **Antigüedad**: El área de fidelización de clientes (renegociación) es acusada de impedir que antiguos clientes incrementen sus compras al limitar sus niveles de endeudamiento. En otras palabras, entre los que usan la tarjeta, los clientes antiguos tiene montos medios \\$100.000 menor que los clientes nuevos (las tarjetas de los clientes identificados cón números menores a 250.000 corresponden a clientes antiguos).\n"
      ]
    },
    {
      "cell_type": "markdown",
      "metadata": {
        "id": "uePBZq_F-_nR"
      },
      "source": [
        "Su trabajo será, mediante análisis de datos mediante tablas, gráficos y test de hipótesis, estudiar los puntos anteriores. Para el cumplimiento de lo anterior, el Departamento de Informática les hace llegar una pequeña muestra aleatoria simple de clientes con información histórica y los atributos solicitados (ver `TCM2022.xlsx`). Las variables de la muestra son las siguientes:\n",
        "\n",
        "* `Cliente`: código de identificación del cliente – asociada a la fecha de otorgamiento.\n",
        "* `Edad`: en años actualizada a diciembre 2022.\n",
        "* `Sexo`: F (femenino), M (masculino).\n",
        "* `Region`: Indica si el cliente pertenece a la región metropolitana (RM) o no (No RM).\n",
        "* `Uso2022`: 1 si ha usado la tarjeta durante 2022, 0 si solo la ha usado en 2021.\n",
        "* `Monto2022`: Monto total en compras desde enero a diciembre de 2022 (en miles)."
      ]
    },
    {
      "cell_type": "markdown",
      "metadata": {
        "id": "cXOJtHo2EHQj"
      },
      "source": [
        "### Instrucciones\n",
        "\n",
        "1. En los ejercicios que se pida realizar test de hipótesis,  **escriba a mano la Hipótesis Nula y Alternativa correspondiente** antes de realizar el test en `python`. Esto lo debe realizar con una celda de texto. Se descontará la mitad del puntaje asociado a la pregunta en caso de incumplimiento.\n",
        "2. Puede realizar los supuestos que estime conveniente para realizar los ejercicios. Estos deben estar indicados explícitamente en el desarrollo.\n",
        "3. Trabaje con un 95% de nivel de confianza cuando corresponda.\n",
        "4. En los ejercicios que se pida realizar gráficos, **debe incluir título, etiquetas de ejes y leyenda** si corresponde. Se descontará 0.5 puntos de la nota final en caso de incumplimiento.\n",
        "5. **SOBRE LA ENTREGA**\n",
        "   * Antes de comenzar a realizar la evaluación, guarde una copia de este cuadernillo en su Google Drive (`Archivo > Guardar una copia en Drive`). No hacer esto puede implicar que su trabajo no se guarde correctamente.\n",
        "   *  Debe descargar este cuardenillo de Google Colab como un archivo `.ipynb` (`Archivo > Descargar > Descargar .ipynb`). No se revisarán otros formatos de entrega. Recurde guardar su desarrollo antes de descargar el archivo correspondiente.\n",
        "   *  El archivo debe ser reproducible, o sea si cargo el archivo en Google Colab y ejecuto todas las celdas, debe reproducir los resultados que usted obtuvo.\n",
        "   *  Enviar el archivo `.ipynb` descargado al siguiente correo [errucan@gmail.com](mailto:errucan@gmail.com) con el asunto \"Evaluación Inferencia Duoc UC\" e indicando su nombre completo en el cuerpo del mensaje.\n",
        "   *  La fecha límite de entrega es el **domingo 29 de octubre a las 23:59 hrs**. Por cada hora de retraso, se descontará un punto de la nota final. Ejemplo: Si entrega entre 00:00 y 00:59, la nota máxima será 6.0. Si entrega entre 01:00 y 01:59, la nota máxima será 5.0, etc.\n",
        "   *  Ante cualquier sospecha de copia, reprobarán automáticamente el curso con nota mínima (1.0) los involucrados. La discusión entre pares siempre es beneficiosa y fomenta diálogos interesantes, pero cada uno debe desarrollar su propio trabajo.\n",
        "6. El cálculo de la nota de la evaluación esta dado por: $\\text{Nota}=1+{\\sum_{i=1}^7\\text{PuntajePregunta}_i \\over 7}$"
      ]
    },
    {
      "cell_type": "markdown",
      "metadata": {
        "id": "HjuW4nTvXVGj"
      },
      "source": [
        "### Ejercicios"
      ]
    },
    {
      "cell_type": "code",
      "execution_count": null,
      "metadata": {
        "colab": {
          "base_uri": "https://localhost:8080/"
        },
        "id": "Afz61jJo2lgT",
        "outputId": "91211ea0-b3d4-43f9-a261-83e294a9cfe4"
      },
      "outputs": [
        {
          "name": "stdout",
          "output_type": "stream",
          "text": [
            "--2023-10-18 11:27:42--  https://raw.githubusercontent.com/estebanrucan/bases-de-datos/main/TCM2022.xlsx\n",
            "Resolving raw.githubusercontent.com (raw.githubusercontent.com)... 185.199.109.133, 185.199.111.133, 185.199.110.133, ...\n",
            "Connecting to raw.githubusercontent.com (raw.githubusercontent.com)|185.199.109.133|:443... connected.\n",
            "HTTP request sent, awaiting response... 200 OK\n",
            "Length: 17783 (17K) [application/octet-stream]\n",
            "Saving to: ‘TCM2022.xlsx.1’\n",
            "\n",
            "TCM2022.xlsx.1      100%[===================>]  17.37K  --.-KB/s    in 0.03s   \n",
            "\n",
            "2023-10-18 11:27:42 (670 KB/s) - ‘TCM2022.xlsx.1’ saved [17783/17783]\n",
            "\n"
          ]
        }
      ],
      "source": [
        "!wget https://raw.githubusercontent.com/estebanrucan/bases-de-datos/main/TCM2022.xlsx"
      ]
    },
    {
      "cell_type": "markdown",
      "metadata": {
        "id": "mUodsBWD-_nV"
      },
      "source": [
        "**1.** **[6 pts]** (Clase 1) Cargue la base de datos y realice un análisis inicial. ¿Hay presencia de datos faltantes? Realice un histograma para la variable `Monto2022` y descríbalo."
      ]
    },
    {
      "cell_type": "code",
      "execution_count": null,
      "metadata": {
        "id": "hdsGC1mM-_nW"
      },
      "outputs": [],
      "source": [
        "# Responda aquí:\n"
      ]
    },
    {
      "cell_type": "markdown",
      "metadata": {
        "id": "kkDAHxl--_nZ"
      },
      "source": [
        "**2.** **[6 pts]** (Clase 1 y 2) Muestre mediante tablas, la cantidad y distribución de porcentajes de clientes que usaron la tarjeta durante 2021 y 2022. A través de las tablas construya un gráfico de barras que muestre la cantidad de clientes por año."
      ]
    },
    {
      "cell_type": "code",
      "execution_count": null,
      "metadata": {
        "id": "4SaTHOPY-_nZ"
      },
      "outputs": [],
      "source": [
        "# Responda aquí:\n"
      ]
    },
    {
      "cell_type": "markdown",
      "metadata": {
        "id": "A521Y4eR-_na"
      },
      "source": [
        "**3.** **[6 pts]** (Clase 3) Genere una tabla que muestre la media del Monto de 2022 según Región. ¿Nota diferencias? Comente y describa una estrategia robusta para estudiar la validez a nivel poblacional de esta diferencia o igualdad de medias (también recuerde que trabaja con una muestra aleatoria simple sobre la población de clientes)."
      ]
    },
    {
      "cell_type": "code",
      "execution_count": null,
      "metadata": {
        "id": "7tQEBeWW-_na"
      },
      "outputs": [],
      "source": [
        "# Responda aquí:\n"
      ]
    },
    {
      "cell_type": "markdown",
      "metadata": {
        "id": "B-bfDcsA-_nb"
      },
      "source": [
        "**4.** **[6 pts]** (Clase 3) Estudie la hipótesis planteada sobre los **Montos**. ¿Se rechaza o no se rechaza $H_0$? ¿Como se interpreta este resultado bajo el contexto de la problemática?"
      ]
    },
    {
      "cell_type": "code",
      "execution_count": null,
      "metadata": {
        "id": "r48FyTlu-_nb"
      },
      "outputs": [],
      "source": [
        "# Responda aquí:\n"
      ]
    },
    {
      "cell_type": "markdown",
      "metadata": {
        "id": "uq2LP5A6-_nb"
      },
      "source": [
        "**5.** **[6 pts]** (Clase 3) Realice el paso anterior pero ahora para la hipótesis sobre **Antiguedad**."
      ]
    },
    {
      "cell_type": "code",
      "execution_count": null,
      "metadata": {
        "id": "JQwIGE9H-_nb"
      },
      "outputs": [],
      "source": [
        "# Responda aquí:\n"
      ]
    },
    {
      "cell_type": "markdown",
      "metadata": {
        "id": "gGUzUfbi3AmO"
      },
      "source": [
        "**6.** **[6 pts]** (Clase 4) Ahora, calcule la varianza de las muestras anteriores. Luego, estudie si existe igualdad de varianzas a nivel de población en las muestras del ejercicio anterior. Interprete el resultado de acuerdo al contexto de la problemática ¿Cuál es su impacto?"
      ]
    },
    {
      "cell_type": "code",
      "execution_count": null,
      "metadata": {
        "id": "kunIXtX7_VWA"
      },
      "outputs": [],
      "source": [
        "# Responda aquí:\n"
      ]
    },
    {
      "cell_type": "markdown",
      "metadata": {
        "id": "hq-mfXfaAdjk"
      },
      "source": [
        "**7.** **[6 pts]** (Clase 4) Para mayor facilidad en la interpretación, se desea estudiar si del total de clientes, el 60% ha usado la tarjeta el año 2022. Realice el test correspondiente e interprete los resultados en el contexto del problema."
      ]
    },
    {
      "cell_type": "code",
      "execution_count": null,
      "metadata": {
        "id": "xBl4EM-JAzYG"
      },
      "outputs": [],
      "source": [
        "# Responda aquí:\n"
      ]
    }
  ],
  "metadata": {
    "colab": {
      "provenance": [],
      "include_colab_link": true
    },
    "kernelspec": {
      "display_name": "default",
      "language": "python",
      "name": "python3"
    },
    "language_info": {
      "codemirror_mode": {
        "name": "ipython",
        "version": 3
      },
      "file_extension": ".py",
      "mimetype": "text/x-python",
      "name": "python",
      "nbconvert_exporter": "python",
      "pygments_lexer": "ipython3",
      "version": "3.11.5"
    },
    "orig_nbformat": 4,
    "vscode": {
      "interpreter": {
        "hash": "3fb0f7d9ac85b35c4db44595658f206fada484d7743b0df944cbbd359afb2df3"
      }
    }
  },
  "nbformat": 4,
  "nbformat_minor": 0
}
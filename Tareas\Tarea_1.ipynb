{
  "nbformat": 4,
  "nbformat_minor": 0,
  "metadata": {
    "colab": {
      "provenance": [],
      "authorship_tag": "ABX9TyOaP1Sn3FmeQEcUWwmevE+Y",
      "include_colab_link": true
    },
    "kernelspec": {
      "name": "python3",
      "display_name": "Python 3"
    },
    "language_info": {
      "name": "python"
    }
  },
  "cells": [
    {
      "cell_type": "markdown",
      "metadata": {
        "id": "view-in-github",
        "colab_type": "text"
      },
      "source": [
        "<a href=\"https://colab.research.google.com/github/fzambran/EstadisticasCienciaDeDatos/blob/main/Tareas%5CTarea_1.ipynb\" target=\"_parent\"><img src=\"https://colab.research.google.com/assets/colab-badge.svg\" alt=\"Open In Colab\"/></a>"
      ]
    },
    {
      "cell_type": "markdown",
      "source": [
        "<a id=\"ejercicios-de-practica\"></a>\n",
        "### Ejercicios de práctica"
      ],
      "metadata": {
        "id": "ZYdfPD-i4RcD"
      }
    },
    {
      "cell_type": "markdown",
      "source": [
        "La base de datos `gapminder.xlsx` ([descarga desde aquí](https://raw.githubusercontent.com/estebanrucan/bases-de-datos/main/gapminder.xlsx)) contiene información sobre distintos índices a lo largo del tiempo en la mayoría de los países del mundo, con el fin de promover el desarrollo global y desmentir mitos comunes sobre salud.\n",
        "Algunas variables de la base de datos son:\n",
        "* `country`: País.\n",
        "* `year`: Año.\n",
        "* `infanty_mortality`: Índice de mortalidad infantil.\n",
        "* `life_expectancy`: Esperanza de vida en años.\n",
        "* `fertility`: Índice de fertilidad.\n",
        "* `population`: Población total del país.\n",
        "* `gdp`: PIB anual del país medido en dólares.\n",
        "* `continent`: Continente.\n",
        "* `region`: Región.\n",
        "\n",
        "A continuación, llevará a cabo un análisis en el que investigará sobre las diferencias en la esperanza de vida y PIB de acuerdo a la ubicación geográfica de los países.  \n"
      ],
      "metadata": {
        "id": "OIYp2Aum4ZFk"
      }
    },
    {
      "cell_type": "markdown",
      "source": [
        "**1.** Cargue la base de datos `gapminder.xlsx` usando la funcion apropiada para cargar archivos de *Excel* y muestre las primeras observaciones. Recuerde importar `pandas` con el alias `pd`."
      ],
      "metadata": {
        "id": "B2lkUEVnY6WF"
      }
    },
    {
      "cell_type": "code",
      "execution_count": null,
      "metadata": {
        "id": "RW83o3Fk4Qny"
      },
      "outputs": [],
      "source": [
        "# Responda aquí:\n"
      ]
    },
    {
      "cell_type": "markdown",
      "source": [
        "**2.** Muestre información de la base de datos con los métodos `describe` e `info`. ¿Qué aspectos destacan? ¿Y los valores faltantes?"
      ],
      "metadata": {
        "id": "6EySAlP_ZUJP"
      }
    },
    {
      "cell_type": "code",
      "source": [
        "# Responda aquí:\n"
      ],
      "metadata": {
        "id": "AhZLulNsZVK6"
      },
      "execution_count": null,
      "outputs": []
    },
    {
      "cell_type": "markdown",
      "source": [
        "**3.** Para el análisis, no tomaremos en cuenta el índice de fertilidad ni la región. Remueva estas variables de la base de datos."
      ],
      "metadata": {
        "id": "7mQOBEqrZvO4"
      }
    },
    {
      "cell_type": "code",
      "source": [
        "# Responda aquí:\n"
      ],
      "metadata": {
        "id": "F9GWqwTeZuow"
      },
      "execution_count": null,
      "outputs": []
    },
    {
      "cell_type": "markdown",
      "source": [
        "**4.** Para ser consistentes, solo consideraremos la información disponible en un solo año. Filtre la base de datos para solo conservar las observaciones del año 2011."
      ],
      "metadata": {
        "id": "fR0iJDC5ZzSw"
      }
    },
    {
      "cell_type": "code",
      "source": [
        "# Responda aquí:\n"
      ],
      "metadata": {
        "id": "-4zTgXmmZ2j0"
      },
      "execution_count": null,
      "outputs": []
    },
    {
      "cell_type": "markdown",
      "source": [
        "**5.** ¿Cuántos países hay en cada continente? ¿De que forma esto puede afectar el análisis?"
      ],
      "metadata": {
        "id": "lg9wzpZvZ8qu"
      }
    },
    {
      "cell_type": "code",
      "source": [
        "# Responda aquí:\n"
      ],
      "metadata": {
        "id": "QUyCS6GmaB-W"
      },
      "execution_count": null,
      "outputs": []
    },
    {
      "cell_type": "markdown",
      "source": [
        "**6.** Muestre una tabla donde se diferencie el promedio de esperanza de vida en cada continente. ¿Qué es relevante en este análisis?"
      ],
      "metadata": {
        "id": "6V5bmgrqaME2"
      }
    },
    {
      "cell_type": "code",
      "source": [
        "# Responda aquí:\n"
      ],
      "metadata": {
        "id": "MWHmEFMraVNN"
      },
      "execution_count": null,
      "outputs": []
    },
    {
      "cell_type": "markdown",
      "source": [
        "**7.** Para terminar, nos interesa comparar el PIB medio entre distintos contienentes. Sin embargo, esto carece de sentido ya que es de esperar que en cada país el PIB sea mayor a medida que su población lo sea. Para ello calcule el PIB per-cápita (PIB/población) de cada país y luego genere una tabla que permita calcular el PIB per-cápita medio entre continentes. Discuta sobre otra forma de comparar el PIB entre continentes.\n"
      ],
      "metadata": {
        "id": "MqhwAy4QaQN5"
      }
    },
    {
      "cell_type": "code",
      "source": [
        "# Responda aquí:\n"
      ],
      "metadata": {
        "id": "xgdWPSS_cxWs"
      },
      "execution_count": null,
      "outputs": []
    }
  ]
}